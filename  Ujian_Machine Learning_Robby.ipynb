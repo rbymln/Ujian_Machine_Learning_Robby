{
 "cells": [
  {
   "cell_type": "markdown",
   "metadata": {},
   "source": [
    "## Import Libraries\n",
    "import libraries yang kiranya akan digunakan untuk menganalisi dan memprediksi data"
   ]
  },
  {
   "cell_type": "code",
   "execution_count": 2,
   "metadata": {
    "ExecuteTime": {
     "end_time": "2020-08-11T02:27:19.885364Z",
     "start_time": "2020-08-11T02:27:18.059079Z"
    }
   },
   "outputs": [],
   "source": [
    "#Data Processing\n",
    "import numpy as np\n",
    "import pandas as pd\n",
    "\n",
    "#Data Visualization\n",
    "import matplotlib.pyplot as plt\n",
    "import seaborn as sns\n",
    "\n",
    "#Data Scalling\n",
    "from sklearn.preprocessing import RobustScaler,StandardScaler,MinMaxScaler,MaxAbsScaler\n",
    "\n",
    "\n",
    "##\n",
    "from sklearn.preprocessing import Normalizer,Binarizer\n",
    "\n",
    "\n",
    "\n",
    "\n",
    "#Data encoder\n",
    "from sklearn.preprocessing import LabelEncoder\n",
    "from sklearn.preprocessing import OneHotEncoder\n",
    "\n",
    "#Data Splitting\n",
    "from sklearn.model_selection import train_test_split\n",
    "\n",
    "\n",
    "#Regressor\n",
    "from sklearn.linear_model import LinearRegression,Lasso,Ridge, BayesianRidge, ElasticNet, HuberRegressor,LogisticRegression\n",
    "from sklearn.tree import DecisionTreeRegressor\n",
    "from sklearn.ensemble import RandomForestRegressor\n",
    "from sklearn.neighbors import KNeighborsRegressor\n",
    "from sklearn.svm import SVR\n",
    "\n",
    "##Polynomial\n",
    "from sklearn.preprocessing import PolynomialFeatures as PF\n",
    "\n",
    "##Pipeline\n",
    "from sklearn.pipeline import make_pipeline\n",
    "\n",
    "\n",
    "#Classifier\n",
    "from sklearn.tree import DecisionTreeClassifier\n",
    "from sklearn.ensemble import RandomForestClassifier\n",
    "from sklearn.neighbors import KNeighborsClassifier\n",
    "\n",
    "#hyperparameter tuning\n",
    "from sklearn.model_selection import RandomizedSearchCV\n",
    "from sklearn.model_selection import GridSearchCV\n",
    "\n",
    "#evaluation\n",
    "from sklearn import metrics\n",
    "from sklearn.metrics import classification_report, precision_score, recall_score, f1_score, accuracy_score,mean_squared_error as mse,confusion_matrix\n",
    "\n",
    "\n",
    "\n",
    "#stats model\n",
    "from scipy.stats import shapiro\n",
    "\n",
    "#Ignore Warning\n",
    "import warnings\n",
    "warnings.filterwarnings('ignore')\n"
   ]
  },
  {
   "cell_type": "markdown",
   "metadata": {},
   "source": [
    "### load data menggunakan ``pd.read_csv``\n",
    "\n",
    "Karena perintah membatasi row data sampai dengan 5000 row maka kita menggunakan slicing untuk membatasi jumlah row sesuai perintah soal dan memilih 16 coloumn yang akan digunakan. Gunakan ``.head()`` yaitu untuk mengetahui 5 data teratas dan ``.tail()`` yaitu untuk mengetahui 5 data terakhir sehingga kita dapat mengetahui gambaran mengenai dataset yang kita gunakan"
   ]
  },
  {
   "cell_type": "code",
   "execution_count": 3,
   "metadata": {
    "ExecuteTime": {
     "end_time": "2020-08-11T02:27:24.828636Z",
     "start_time": "2020-08-11T02:27:24.441407Z"
    }
   },
   "outputs": [],
   "source": [
    "data = pd.read_csv(\"hotel_bookings.csv\")[0:5000]"
   ]
  },
  {
   "cell_type": "code",
   "execution_count": 8,
   "metadata": {
    "ExecuteTime": {
     "end_time": "2020-08-11T02:29:29.336128Z",
     "start_time": "2020-08-11T02:29:29.328149Z"
    }
   },
   "outputs": [],
   "source": [
    "df = data[['hotel','is_canceled', 'adults', 'children', 'babies', 'meal', \n",
    "           'country', 'market_segment', 'distribution_channel', 'reserved_room_type', \n",
    "           'booking_changes', 'deposit_type', 'days_in_waiting_list', 'customer_type', \n",
    "           'required_car_parking_spaces', 'total_of_special_requests']]"
   ]
  },
  {
   "cell_type": "code",
   "execution_count": 9,
   "metadata": {
    "ExecuteTime": {
     "end_time": "2020-08-11T02:29:34.277928Z",
     "start_time": "2020-08-11T02:29:34.245981Z"
    }
   },
   "outputs": [
    {
     "name": "stdout",
     "output_type": "stream",
     "text": [
      "<class 'pandas.core.frame.DataFrame'>\n",
      "RangeIndex: 5000 entries, 0 to 4999\n",
      "Data columns (total 16 columns):\n",
      " #   Column                       Non-Null Count  Dtype  \n",
      "---  ------                       --------------  -----  \n",
      " 0   hotel                        5000 non-null   object \n",
      " 1   is_canceled                  5000 non-null   int64  \n",
      " 2   adults                       5000 non-null   int64  \n",
      " 3   children                     5000 non-null   float64\n",
      " 4   babies                       5000 non-null   int64  \n",
      " 5   meal                         5000 non-null   object \n",
      " 6   country                      4998 non-null   object \n",
      " 7   market_segment               5000 non-null   object \n",
      " 8   distribution_channel         5000 non-null   object \n",
      " 9   reserved_room_type           5000 non-null   object \n",
      " 10  booking_changes              5000 non-null   int64  \n",
      " 11  deposit_type                 5000 non-null   object \n",
      " 12  days_in_waiting_list         5000 non-null   int64  \n",
      " 13  customer_type                5000 non-null   object \n",
      " 14  required_car_parking_spaces  5000 non-null   int64  \n",
      " 15  total_of_special_requests    5000 non-null   int64  \n",
      "dtypes: float64(1), int64(7), object(8)\n",
      "memory usage: 468.8+ KB\n"
     ]
    }
   ],
   "source": [
    "df.info()"
   ]
  },
  {
   "cell_type": "code",
   "execution_count": 10,
   "metadata": {
    "ExecuteTime": {
     "end_time": "2020-08-11T02:32:52.943379Z",
     "start_time": "2020-08-11T02:32:52.920489Z"
    }
   },
   "outputs": [
    {
     "data": {
      "text/html": [
       "<div>\n",
       "<style scoped>\n",
       "    .dataframe tbody tr th:only-of-type {\n",
       "        vertical-align: middle;\n",
       "    }\n",
       "\n",
       "    .dataframe tbody tr th {\n",
       "        vertical-align: top;\n",
       "    }\n",
       "\n",
       "    .dataframe thead th {\n",
       "        text-align: right;\n",
       "    }\n",
       "</style>\n",
       "<table border=\"1\" class=\"dataframe\">\n",
       "  <thead>\n",
       "    <tr style=\"text-align: right;\">\n",
       "      <th></th>\n",
       "      <th>hotel</th>\n",
       "      <th>is_canceled</th>\n",
       "      <th>adults</th>\n",
       "      <th>children</th>\n",
       "      <th>babies</th>\n",
       "      <th>meal</th>\n",
       "      <th>country</th>\n",
       "      <th>market_segment</th>\n",
       "      <th>distribution_channel</th>\n",
       "      <th>reserved_room_type</th>\n",
       "      <th>booking_changes</th>\n",
       "      <th>deposit_type</th>\n",
       "      <th>days_in_waiting_list</th>\n",
       "      <th>customer_type</th>\n",
       "      <th>required_car_parking_spaces</th>\n",
       "      <th>total_of_special_requests</th>\n",
       "    </tr>\n",
       "  </thead>\n",
       "  <tbody>\n",
       "    <tr>\n",
       "      <th>0</th>\n",
       "      <td>Resort Hotel</td>\n",
       "      <td>0</td>\n",
       "      <td>2</td>\n",
       "      <td>0.0</td>\n",
       "      <td>0</td>\n",
       "      <td>BB</td>\n",
       "      <td>PRT</td>\n",
       "      <td>Direct</td>\n",
       "      <td>Direct</td>\n",
       "      <td>C</td>\n",
       "      <td>3</td>\n",
       "      <td>No Deposit</td>\n",
       "      <td>0</td>\n",
       "      <td>Transient</td>\n",
       "      <td>0</td>\n",
       "      <td>0</td>\n",
       "    </tr>\n",
       "    <tr>\n",
       "      <th>1</th>\n",
       "      <td>Resort Hotel</td>\n",
       "      <td>0</td>\n",
       "      <td>2</td>\n",
       "      <td>0.0</td>\n",
       "      <td>0</td>\n",
       "      <td>BB</td>\n",
       "      <td>PRT</td>\n",
       "      <td>Direct</td>\n",
       "      <td>Direct</td>\n",
       "      <td>C</td>\n",
       "      <td>4</td>\n",
       "      <td>No Deposit</td>\n",
       "      <td>0</td>\n",
       "      <td>Transient</td>\n",
       "      <td>0</td>\n",
       "      <td>0</td>\n",
       "    </tr>\n",
       "    <tr>\n",
       "      <th>2</th>\n",
       "      <td>Resort Hotel</td>\n",
       "      <td>0</td>\n",
       "      <td>1</td>\n",
       "      <td>0.0</td>\n",
       "      <td>0</td>\n",
       "      <td>BB</td>\n",
       "      <td>GBR</td>\n",
       "      <td>Direct</td>\n",
       "      <td>Direct</td>\n",
       "      <td>A</td>\n",
       "      <td>0</td>\n",
       "      <td>No Deposit</td>\n",
       "      <td>0</td>\n",
       "      <td>Transient</td>\n",
       "      <td>0</td>\n",
       "      <td>0</td>\n",
       "    </tr>\n",
       "    <tr>\n",
       "      <th>3</th>\n",
       "      <td>Resort Hotel</td>\n",
       "      <td>0</td>\n",
       "      <td>1</td>\n",
       "      <td>0.0</td>\n",
       "      <td>0</td>\n",
       "      <td>BB</td>\n",
       "      <td>GBR</td>\n",
       "      <td>Corporate</td>\n",
       "      <td>Corporate</td>\n",
       "      <td>A</td>\n",
       "      <td>0</td>\n",
       "      <td>No Deposit</td>\n",
       "      <td>0</td>\n",
       "      <td>Transient</td>\n",
       "      <td>0</td>\n",
       "      <td>0</td>\n",
       "    </tr>\n",
       "    <tr>\n",
       "      <th>4</th>\n",
       "      <td>Resort Hotel</td>\n",
       "      <td>0</td>\n",
       "      <td>2</td>\n",
       "      <td>0.0</td>\n",
       "      <td>0</td>\n",
       "      <td>BB</td>\n",
       "      <td>GBR</td>\n",
       "      <td>Online TA</td>\n",
       "      <td>TA/TO</td>\n",
       "      <td>A</td>\n",
       "      <td>0</td>\n",
       "      <td>No Deposit</td>\n",
       "      <td>0</td>\n",
       "      <td>Transient</td>\n",
       "      <td>0</td>\n",
       "      <td>1</td>\n",
       "    </tr>\n",
       "  </tbody>\n",
       "</table>\n",
       "</div>"
      ],
      "text/plain": [
       "          hotel  is_canceled  adults  children  babies meal country  \\\n",
       "0  Resort Hotel            0       2       0.0       0   BB     PRT   \n",
       "1  Resort Hotel            0       2       0.0       0   BB     PRT   \n",
       "2  Resort Hotel            0       1       0.0       0   BB     GBR   \n",
       "3  Resort Hotel            0       1       0.0       0   BB     GBR   \n",
       "4  Resort Hotel            0       2       0.0       0   BB     GBR   \n",
       "\n",
       "  market_segment distribution_channel reserved_room_type  booking_changes  \\\n",
       "0         Direct               Direct                  C                3   \n",
       "1         Direct               Direct                  C                4   \n",
       "2         Direct               Direct                  A                0   \n",
       "3      Corporate            Corporate                  A                0   \n",
       "4      Online TA                TA/TO                  A                0   \n",
       "\n",
       "  deposit_type  days_in_waiting_list customer_type  \\\n",
       "0   No Deposit                     0     Transient   \n",
       "1   No Deposit                     0     Transient   \n",
       "2   No Deposit                     0     Transient   \n",
       "3   No Deposit                     0     Transient   \n",
       "4   No Deposit                     0     Transient   \n",
       "\n",
       "   required_car_parking_spaces  total_of_special_requests  \n",
       "0                            0                          0  \n",
       "1                            0                          0  \n",
       "2                            0                          0  \n",
       "3                            0                          0  \n",
       "4                            0                          1  "
      ]
     },
     "execution_count": 10,
     "metadata": {},
     "output_type": "execute_result"
    }
   ],
   "source": [
    "df.head()"
   ]
  },
  {
   "cell_type": "code",
   "execution_count": 11,
   "metadata": {
    "ExecuteTime": {
     "end_time": "2020-08-11T02:32:57.504374Z",
     "start_time": "2020-08-11T02:32:57.480434Z"
    }
   },
   "outputs": [
    {
     "data": {
      "text/html": [
       "<div>\n",
       "<style scoped>\n",
       "    .dataframe tbody tr th:only-of-type {\n",
       "        vertical-align: middle;\n",
       "    }\n",
       "\n",
       "    .dataframe tbody tr th {\n",
       "        vertical-align: top;\n",
       "    }\n",
       "\n",
       "    .dataframe thead th {\n",
       "        text-align: right;\n",
       "    }\n",
       "</style>\n",
       "<table border=\"1\" class=\"dataframe\">\n",
       "  <thead>\n",
       "    <tr style=\"text-align: right;\">\n",
       "      <th></th>\n",
       "      <th>hotel</th>\n",
       "      <th>is_canceled</th>\n",
       "      <th>adults</th>\n",
       "      <th>children</th>\n",
       "      <th>babies</th>\n",
       "      <th>meal</th>\n",
       "      <th>country</th>\n",
       "      <th>market_segment</th>\n",
       "      <th>distribution_channel</th>\n",
       "      <th>reserved_room_type</th>\n",
       "      <th>booking_changes</th>\n",
       "      <th>deposit_type</th>\n",
       "      <th>days_in_waiting_list</th>\n",
       "      <th>customer_type</th>\n",
       "      <th>required_car_parking_spaces</th>\n",
       "      <th>total_of_special_requests</th>\n",
       "    </tr>\n",
       "  </thead>\n",
       "  <tbody>\n",
       "    <tr>\n",
       "      <th>4995</th>\n",
       "      <td>Resort Hotel</td>\n",
       "      <td>1</td>\n",
       "      <td>2</td>\n",
       "      <td>0.0</td>\n",
       "      <td>0</td>\n",
       "      <td>HB</td>\n",
       "      <td>PRT</td>\n",
       "      <td>Groups</td>\n",
       "      <td>Direct</td>\n",
       "      <td>D</td>\n",
       "      <td>0</td>\n",
       "      <td>Non Refund</td>\n",
       "      <td>0</td>\n",
       "      <td>Transient</td>\n",
       "      <td>0</td>\n",
       "      <td>0</td>\n",
       "    </tr>\n",
       "    <tr>\n",
       "      <th>4996</th>\n",
       "      <td>Resort Hotel</td>\n",
       "      <td>1</td>\n",
       "      <td>2</td>\n",
       "      <td>0.0</td>\n",
       "      <td>0</td>\n",
       "      <td>HB</td>\n",
       "      <td>PRT</td>\n",
       "      <td>Groups</td>\n",
       "      <td>Direct</td>\n",
       "      <td>D</td>\n",
       "      <td>0</td>\n",
       "      <td>Non Refund</td>\n",
       "      <td>0</td>\n",
       "      <td>Transient</td>\n",
       "      <td>0</td>\n",
       "      <td>0</td>\n",
       "    </tr>\n",
       "    <tr>\n",
       "      <th>4997</th>\n",
       "      <td>Resort Hotel</td>\n",
       "      <td>1</td>\n",
       "      <td>2</td>\n",
       "      <td>0.0</td>\n",
       "      <td>0</td>\n",
       "      <td>HB</td>\n",
       "      <td>PRT</td>\n",
       "      <td>Groups</td>\n",
       "      <td>Direct</td>\n",
       "      <td>A</td>\n",
       "      <td>0</td>\n",
       "      <td>Non Refund</td>\n",
       "      <td>0</td>\n",
       "      <td>Transient</td>\n",
       "      <td>0</td>\n",
       "      <td>0</td>\n",
       "    </tr>\n",
       "    <tr>\n",
       "      <th>4998</th>\n",
       "      <td>Resort Hotel</td>\n",
       "      <td>1</td>\n",
       "      <td>2</td>\n",
       "      <td>0.0</td>\n",
       "      <td>0</td>\n",
       "      <td>HB</td>\n",
       "      <td>PRT</td>\n",
       "      <td>Groups</td>\n",
       "      <td>Direct</td>\n",
       "      <td>A</td>\n",
       "      <td>0</td>\n",
       "      <td>Non Refund</td>\n",
       "      <td>0</td>\n",
       "      <td>Transient</td>\n",
       "      <td>0</td>\n",
       "      <td>0</td>\n",
       "    </tr>\n",
       "    <tr>\n",
       "      <th>4999</th>\n",
       "      <td>Resort Hotel</td>\n",
       "      <td>1</td>\n",
       "      <td>2</td>\n",
       "      <td>0.0</td>\n",
       "      <td>0</td>\n",
       "      <td>HB</td>\n",
       "      <td>PRT</td>\n",
       "      <td>Groups</td>\n",
       "      <td>Direct</td>\n",
       "      <td>D</td>\n",
       "      <td>0</td>\n",
       "      <td>Non Refund</td>\n",
       "      <td>0</td>\n",
       "      <td>Transient</td>\n",
       "      <td>0</td>\n",
       "      <td>0</td>\n",
       "    </tr>\n",
       "  </tbody>\n",
       "</table>\n",
       "</div>"
      ],
      "text/plain": [
       "             hotel  is_canceled  adults  children  babies meal country  \\\n",
       "4995  Resort Hotel            1       2       0.0       0   HB     PRT   \n",
       "4996  Resort Hotel            1       2       0.0       0   HB     PRT   \n",
       "4997  Resort Hotel            1       2       0.0       0   HB     PRT   \n",
       "4998  Resort Hotel            1       2       0.0       0   HB     PRT   \n",
       "4999  Resort Hotel            1       2       0.0       0   HB     PRT   \n",
       "\n",
       "     market_segment distribution_channel reserved_room_type  booking_changes  \\\n",
       "4995         Groups               Direct                  D                0   \n",
       "4996         Groups               Direct                  D                0   \n",
       "4997         Groups               Direct                  A                0   \n",
       "4998         Groups               Direct                  A                0   \n",
       "4999         Groups               Direct                  D                0   \n",
       "\n",
       "     deposit_type  days_in_waiting_list customer_type  \\\n",
       "4995   Non Refund                     0     Transient   \n",
       "4996   Non Refund                     0     Transient   \n",
       "4997   Non Refund                     0     Transient   \n",
       "4998   Non Refund                     0     Transient   \n",
       "4999   Non Refund                     0     Transient   \n",
       "\n",
       "      required_car_parking_spaces  total_of_special_requests  \n",
       "4995                            0                          0  \n",
       "4996                            0                          0  \n",
       "4997                            0                          0  \n",
       "4998                            0                          0  \n",
       "4999                            0                          0  "
      ]
     },
     "execution_count": 11,
     "metadata": {},
     "output_type": "execute_result"
    }
   ],
   "source": [
    "df.tail()"
   ]
  },
  {
   "cell_type": "markdown",
   "metadata": {
    "ExecuteTime": {
     "end_time": "2020-08-11T02:41:02.995813Z",
     "start_time": "2020-08-11T02:41:02.981852Z"
    }
   },
   "source": [
    "Menggunakan ``df.info`` kita dapat mendapatkan gambaran umum mengenai dataset, terdapat beberapa informasi yang akan bisa kita dapatkan yang pertama kita dapat mengetahui rangeindex atau jumlah baris sebanyak 5000 row, terdiri dari index 0 sampai 4999 sesuai dengan perintah soal\n",
    "\n",
    "selajutnya pada **columns**, kita dapat melihat nama-nama kolom(variable) dan jenis typedatandari dataset yang kita digunakan.Pada kolom **Non null count**, kita dapat mengetahui jumlah data yang terisi, sehingga dari informasi di bawah ini kita  dapat mengetahui jumlah berapa missing values dari data ini per variable nya, dengan cara jumlah entri data dikurangi Non Null Count, semisalnya pada column ***country***, kita dapat melihat bahwa ada 4998 Non Null Count dari 5000 entri, sehingga kita dapat memastikan bahwa pada column ini terdapat 2 missing value."
   ]
  },
  {
   "cell_type": "code",
   "execution_count": 16,
   "metadata": {
    "ExecuteTime": {
     "end_time": "2020-08-11T02:52:07.254567Z",
     "start_time": "2020-08-11T02:52:07.238610Z"
    }
   },
   "outputs": [
    {
     "name": "stdout",
     "output_type": "stream",
     "text": [
      "<class 'pandas.core.frame.DataFrame'>\n",
      "RangeIndex: 5000 entries, 0 to 4999\n",
      "Data columns (total 16 columns):\n",
      " #   Column                       Non-Null Count  Dtype  \n",
      "---  ------                       --------------  -----  \n",
      " 0   hotel                        5000 non-null   object \n",
      " 1   is_canceled                  5000 non-null   int64  \n",
      " 2   adults                       5000 non-null   int64  \n",
      " 3   children                     5000 non-null   float64\n",
      " 4   babies                       5000 non-null   int64  \n",
      " 5   meal                         5000 non-null   object \n",
      " 6   country                      4998 non-null   object \n",
      " 7   market_segment               5000 non-null   object \n",
      " 8   distribution_channel         5000 non-null   object \n",
      " 9   reserved_room_type           5000 non-null   object \n",
      " 10  booking_changes              5000 non-null   int64  \n",
      " 11  deposit_type                 5000 non-null   object \n",
      " 12  days_in_waiting_list         5000 non-null   int64  \n",
      " 13  customer_type                5000 non-null   object \n",
      " 14  required_car_parking_spaces  5000 non-null   int64  \n",
      " 15  total_of_special_requests    5000 non-null   int64  \n",
      "dtypes: float64(1), int64(7), object(8)\n",
      "memory usage: 468.8+ KB\n"
     ]
    }
   ],
   "source": [
    "df.info()"
   ]
  },
  {
   "cell_type": "markdown",
   "metadata": {},
   "source": [
    "Menggunakan ``df.describe`` untuk mengetahui informasi, diantaranya **count** untuk menghitung total row, **mean** untuk mengetahui nilai rata-rata yang ada pada tiap kolom , **std** untuk mengetahui sebaran dalam tiap kolom, **min** untuk mengetahui nilai minimum pada tiap kolom dan **max** untuk mengetahui nilai maksimal pada tiap kolom.\n",
    "\n",
    "sedangkan 25%,50%, dan 75% mengacu pada Q1,Q2,dan Q3. Quantile merupakan pengukuran posisi pada suatu data, yang mana posisi quantile mewakili  diamana proporsi tersebut dari distribusi data.\n"
   ]
  },
  {
   "cell_type": "code",
   "execution_count": 17,
   "metadata": {
    "ExecuteTime": {
     "end_time": "2020-08-11T02:58:53.053055Z",
     "start_time": "2020-08-11T02:58:53.002190Z"
    }
   },
   "outputs": [
    {
     "data": {
      "text/html": [
       "<div>\n",
       "<style scoped>\n",
       "    .dataframe tbody tr th:only-of-type {\n",
       "        vertical-align: middle;\n",
       "    }\n",
       "\n",
       "    .dataframe tbody tr th {\n",
       "        vertical-align: top;\n",
       "    }\n",
       "\n",
       "    .dataframe thead th {\n",
       "        text-align: right;\n",
       "    }\n",
       "</style>\n",
       "<table border=\"1\" class=\"dataframe\">\n",
       "  <thead>\n",
       "    <tr style=\"text-align: right;\">\n",
       "      <th></th>\n",
       "      <th>is_canceled</th>\n",
       "      <th>adults</th>\n",
       "      <th>children</th>\n",
       "      <th>babies</th>\n",
       "      <th>booking_changes</th>\n",
       "      <th>days_in_waiting_list</th>\n",
       "      <th>required_car_parking_spaces</th>\n",
       "      <th>total_of_special_requests</th>\n",
       "    </tr>\n",
       "  </thead>\n",
       "  <tbody>\n",
       "    <tr>\n",
       "      <th>count</th>\n",
       "      <td>5000.000000</td>\n",
       "      <td>5000.000000</td>\n",
       "      <td>5000.000000</td>\n",
       "      <td>5000.000000</td>\n",
       "      <td>5000.000000</td>\n",
       "      <td>5000.000000</td>\n",
       "      <td>5000.000000</td>\n",
       "      <td>5000.000000</td>\n",
       "    </tr>\n",
       "    <tr>\n",
       "      <th>mean</th>\n",
       "      <td>0.459600</td>\n",
       "      <td>1.969800</td>\n",
       "      <td>0.115600</td>\n",
       "      <td>0.014800</td>\n",
       "      <td>0.207200</td>\n",
       "      <td>1.772000</td>\n",
       "      <td>0.093800</td>\n",
       "      <td>0.602000</td>\n",
       "    </tr>\n",
       "    <tr>\n",
       "      <th>std</th>\n",
       "      <td>0.498415</td>\n",
       "      <td>1.566326</td>\n",
       "      <td>0.444833</td>\n",
       "      <td>0.122409</td>\n",
       "      <td>0.612489</td>\n",
       "      <td>13.545358</td>\n",
       "      <td>0.292948</td>\n",
       "      <td>0.823245</td>\n",
       "    </tr>\n",
       "    <tr>\n",
       "      <th>min</th>\n",
       "      <td>0.000000</td>\n",
       "      <td>0.000000</td>\n",
       "      <td>0.000000</td>\n",
       "      <td>0.000000</td>\n",
       "      <td>0.000000</td>\n",
       "      <td>0.000000</td>\n",
       "      <td>0.000000</td>\n",
       "      <td>0.000000</td>\n",
       "    </tr>\n",
       "    <tr>\n",
       "      <th>25%</th>\n",
       "      <td>0.000000</td>\n",
       "      <td>2.000000</td>\n",
       "      <td>0.000000</td>\n",
       "      <td>0.000000</td>\n",
       "      <td>0.000000</td>\n",
       "      <td>0.000000</td>\n",
       "      <td>0.000000</td>\n",
       "      <td>0.000000</td>\n",
       "    </tr>\n",
       "    <tr>\n",
       "      <th>50%</th>\n",
       "      <td>0.000000</td>\n",
       "      <td>2.000000</td>\n",
       "      <td>0.000000</td>\n",
       "      <td>0.000000</td>\n",
       "      <td>0.000000</td>\n",
       "      <td>0.000000</td>\n",
       "      <td>0.000000</td>\n",
       "      <td>0.000000</td>\n",
       "    </tr>\n",
       "    <tr>\n",
       "      <th>75%</th>\n",
       "      <td>1.000000</td>\n",
       "      <td>2.000000</td>\n",
       "      <td>0.000000</td>\n",
       "      <td>0.000000</td>\n",
       "      <td>0.000000</td>\n",
       "      <td>0.000000</td>\n",
       "      <td>0.000000</td>\n",
       "      <td>1.000000</td>\n",
       "    </tr>\n",
       "    <tr>\n",
       "      <th>max</th>\n",
       "      <td>1.000000</td>\n",
       "      <td>55.000000</td>\n",
       "      <td>10.000000</td>\n",
       "      <td>2.000000</td>\n",
       "      <td>17.000000</td>\n",
       "      <td>122.000000</td>\n",
       "      <td>2.000000</td>\n",
       "      <td>4.000000</td>\n",
       "    </tr>\n",
       "  </tbody>\n",
       "</table>\n",
       "</div>"
      ],
      "text/plain": [
       "       is_canceled       adults     children       babies  booking_changes  \\\n",
       "count  5000.000000  5000.000000  5000.000000  5000.000000      5000.000000   \n",
       "mean      0.459600     1.969800     0.115600     0.014800         0.207200   \n",
       "std       0.498415     1.566326     0.444833     0.122409         0.612489   \n",
       "min       0.000000     0.000000     0.000000     0.000000         0.000000   \n",
       "25%       0.000000     2.000000     0.000000     0.000000         0.000000   \n",
       "50%       0.000000     2.000000     0.000000     0.000000         0.000000   \n",
       "75%       1.000000     2.000000     0.000000     0.000000         0.000000   \n",
       "max       1.000000    55.000000    10.000000     2.000000        17.000000   \n",
       "\n",
       "       days_in_waiting_list  required_car_parking_spaces  \\\n",
       "count           5000.000000                  5000.000000   \n",
       "mean               1.772000                     0.093800   \n",
       "std               13.545358                     0.292948   \n",
       "min                0.000000                     0.000000   \n",
       "25%                0.000000                     0.000000   \n",
       "50%                0.000000                     0.000000   \n",
       "75%                0.000000                     0.000000   \n",
       "max              122.000000                     2.000000   \n",
       "\n",
       "       total_of_special_requests  \n",
       "count                5000.000000  \n",
       "mean                    0.602000  \n",
       "std                     0.823245  \n",
       "min                     0.000000  \n",
       "25%                     0.000000  \n",
       "50%                     0.000000  \n",
       "75%                     1.000000  \n",
       "max                     4.000000  "
      ]
     },
     "execution_count": 17,
     "metadata": {},
     "output_type": "execute_result"
    }
   ],
   "source": [
    "df.describe()"
   ]
  },
  {
   "cell_type": "code",
   "execution_count": null,
   "metadata": {},
   "outputs": [],
   "source": [
    "Membuat dataframe untuk mengetahui jumlah dari data yang nan pada tiap kolom dan menghitung uniqe value pada tiap2 column"
   ]
  },
  {
   "cell_type": "code",
   "execution_count": 20,
   "metadata": {
    "ExecuteTime": {
     "end_time": "2020-08-11T03:34:49.711386Z",
     "start_time": "2020-08-11T03:34:49.674970Z"
    }
   },
   "outputs": [
    {
     "data": {
      "text/html": [
       "<div>\n",
       "<style scoped>\n",
       "    .dataframe tbody tr th:only-of-type {\n",
       "        vertical-align: middle;\n",
       "    }\n",
       "\n",
       "    .dataframe tbody tr th {\n",
       "        vertical-align: top;\n",
       "    }\n",
       "\n",
       "    .dataframe thead th {\n",
       "        text-align: right;\n",
       "    }\n",
       "</style>\n",
       "<table border=\"1\" class=\"dataframe\">\n",
       "  <thead>\n",
       "    <tr style=\"text-align: right;\">\n",
       "      <th></th>\n",
       "      <th>Variables/ Columns</th>\n",
       "      <th>dataType</th>\n",
       "      <th>null</th>\n",
       "      <th>unique</th>\n",
       "    </tr>\n",
       "  </thead>\n",
       "  <tbody>\n",
       "    <tr>\n",
       "      <th>0</th>\n",
       "      <td>hotel</td>\n",
       "      <td>object</td>\n",
       "      <td>0</td>\n",
       "      <td>1</td>\n",
       "    </tr>\n",
       "    <tr>\n",
       "      <th>1</th>\n",
       "      <td>is_canceled</td>\n",
       "      <td>int64</td>\n",
       "      <td>0</td>\n",
       "      <td>2</td>\n",
       "    </tr>\n",
       "    <tr>\n",
       "      <th>2</th>\n",
       "      <td>adults</td>\n",
       "      <td>int64</td>\n",
       "      <td>0</td>\n",
       "      <td>14</td>\n",
       "    </tr>\n",
       "    <tr>\n",
       "      <th>3</th>\n",
       "      <td>children</td>\n",
       "      <td>float64</td>\n",
       "      <td>0</td>\n",
       "      <td>4</td>\n",
       "    </tr>\n",
       "    <tr>\n",
       "      <th>4</th>\n",
       "      <td>babies</td>\n",
       "      <td>int64</td>\n",
       "      <td>0</td>\n",
       "      <td>3</td>\n",
       "    </tr>\n",
       "    <tr>\n",
       "      <th>5</th>\n",
       "      <td>meal</td>\n",
       "      <td>object</td>\n",
       "      <td>0</td>\n",
       "      <td>5</td>\n",
       "    </tr>\n",
       "    <tr>\n",
       "      <th>6</th>\n",
       "      <td>country</td>\n",
       "      <td>object</td>\n",
       "      <td>2</td>\n",
       "      <td>56</td>\n",
       "    </tr>\n",
       "    <tr>\n",
       "      <th>7</th>\n",
       "      <td>market_segment</td>\n",
       "      <td>object</td>\n",
       "      <td>0</td>\n",
       "      <td>6</td>\n",
       "    </tr>\n",
       "    <tr>\n",
       "      <th>8</th>\n",
       "      <td>distribution_channel</td>\n",
       "      <td>object</td>\n",
       "      <td>0</td>\n",
       "      <td>3</td>\n",
       "    </tr>\n",
       "    <tr>\n",
       "      <th>9</th>\n",
       "      <td>reserved_room_type</td>\n",
       "      <td>object</td>\n",
       "      <td>0</td>\n",
       "      <td>9</td>\n",
       "    </tr>\n",
       "    <tr>\n",
       "      <th>10</th>\n",
       "      <td>booking_changes</td>\n",
       "      <td>int64</td>\n",
       "      <td>0</td>\n",
       "      <td>8</td>\n",
       "    </tr>\n",
       "    <tr>\n",
       "      <th>11</th>\n",
       "      <td>deposit_type</td>\n",
       "      <td>object</td>\n",
       "      <td>0</td>\n",
       "      <td>3</td>\n",
       "    </tr>\n",
       "    <tr>\n",
       "      <th>12</th>\n",
       "      <td>days_in_waiting_list</td>\n",
       "      <td>int64</td>\n",
       "      <td>0</td>\n",
       "      <td>5</td>\n",
       "    </tr>\n",
       "    <tr>\n",
       "      <th>13</th>\n",
       "      <td>customer_type</td>\n",
       "      <td>object</td>\n",
       "      <td>0</td>\n",
       "      <td>4</td>\n",
       "    </tr>\n",
       "    <tr>\n",
       "      <th>14</th>\n",
       "      <td>required_car_parking_spaces</td>\n",
       "      <td>int64</td>\n",
       "      <td>0</td>\n",
       "      <td>3</td>\n",
       "    </tr>\n",
       "    <tr>\n",
       "      <th>15</th>\n",
       "      <td>total_of_special_requests</td>\n",
       "      <td>int64</td>\n",
       "      <td>0</td>\n",
       "      <td>5</td>\n",
       "    </tr>\n",
       "  </tbody>\n",
       "</table>\n",
       "</div>"
      ],
      "text/plain": [
       "             Variables/ Columns dataType  null  unique\n",
       "0                         hotel   object     0       1\n",
       "1                   is_canceled    int64     0       2\n",
       "2                        adults    int64     0      14\n",
       "3                      children  float64     0       4\n",
       "4                        babies    int64     0       3\n",
       "5                          meal   object     0       5\n",
       "6                       country   object     2      56\n",
       "7                market_segment   object     0       6\n",
       "8          distribution_channel   object     0       3\n",
       "9            reserved_room_type   object     0       9\n",
       "10              booking_changes    int64     0       8\n",
       "11                 deposit_type   object     0       3\n",
       "12         days_in_waiting_list    int64     0       5\n",
       "13                customer_type   object     0       4\n",
       "14  required_car_parking_spaces    int64     0       3\n",
       "15    total_of_special_requests    int64     0       5"
      ]
     },
     "execution_count": 20,
     "metadata": {},
     "output_type": "execute_result"
    }
   ],
   "source": [
    "pd.DataFrame({'Variables/ Columns' : df.columns, 'dataType' : df.dtypes, \n",
    "              'null' : df.isna().sum(), 'unique' : df.nunique()}).reset_index(drop = True)"
   ]
  },
  {
   "cell_type": "markdown",
   "metadata": {},
   "source": [
    "## A.  Data Preprocessing\n",
    "\n",
    "\n",
    "Setelah dilakukan pengecekan missing value, hanya satu coloumns saja yang memiliki nilai nan atau data yang tidak terisi dan berjumlah 2 yaitu column **country**, cara untuk menghandling pada case ini bisa dengan  menghapus row pada data yang column country-nya terdapat missing valuen atau mengisi data nan menggunakan top data atau data yang memiliki kemunculan kolom terbanyak pada country dan saya memutuskan untuk mengisi data nan menggunakan top data\n"
   ]
  },
  {
   "cell_type": "code",
   "execution_count": 18,
   "metadata": {
    "ExecuteTime": {
     "end_time": "2020-08-11T03:32:25.850149Z",
     "start_time": "2020-08-11T03:32:25.821227Z"
    },
    "scrolled": true
   },
   "outputs": [
    {
     "data": {
      "text/html": [
       "<div>\n",
       "<style scoped>\n",
       "    .dataframe tbody tr th:only-of-type {\n",
       "        vertical-align: middle;\n",
       "    }\n",
       "\n",
       "    .dataframe tbody tr th {\n",
       "        vertical-align: top;\n",
       "    }\n",
       "\n",
       "    .dataframe thead th {\n",
       "        text-align: right;\n",
       "    }\n",
       "</style>\n",
       "<table border=\"1\" class=\"dataframe\">\n",
       "  <thead>\n",
       "    <tr style=\"text-align: right;\">\n",
       "      <th></th>\n",
       "      <th>hotel</th>\n",
       "      <th>is_canceled</th>\n",
       "      <th>adults</th>\n",
       "      <th>children</th>\n",
       "      <th>babies</th>\n",
       "      <th>meal</th>\n",
       "      <th>country</th>\n",
       "      <th>market_segment</th>\n",
       "      <th>distribution_channel</th>\n",
       "      <th>reserved_room_type</th>\n",
       "      <th>booking_changes</th>\n",
       "      <th>deposit_type</th>\n",
       "      <th>days_in_waiting_list</th>\n",
       "      <th>customer_type</th>\n",
       "      <th>required_car_parking_spaces</th>\n",
       "      <th>total_of_special_requests</th>\n",
       "    </tr>\n",
       "  </thead>\n",
       "  <tbody>\n",
       "    <tr>\n",
       "      <th>30</th>\n",
       "      <td>Resort Hotel</td>\n",
       "      <td>0</td>\n",
       "      <td>1</td>\n",
       "      <td>0.0</td>\n",
       "      <td>0</td>\n",
       "      <td>BB</td>\n",
       "      <td>NaN</td>\n",
       "      <td>Direct</td>\n",
       "      <td>Direct</td>\n",
       "      <td>A</td>\n",
       "      <td>2</td>\n",
       "      <td>No Deposit</td>\n",
       "      <td>0</td>\n",
       "      <td>Transient</td>\n",
       "      <td>0</td>\n",
       "      <td>2</td>\n",
       "    </tr>\n",
       "    <tr>\n",
       "      <th>4127</th>\n",
       "      <td>Resort Hotel</td>\n",
       "      <td>1</td>\n",
       "      <td>0</td>\n",
       "      <td>0.0</td>\n",
       "      <td>0</td>\n",
       "      <td>SC</td>\n",
       "      <td>NaN</td>\n",
       "      <td>Offline TA/TO</td>\n",
       "      <td>TA/TO</td>\n",
       "      <td>P</td>\n",
       "      <td>0</td>\n",
       "      <td>No Deposit</td>\n",
       "      <td>0</td>\n",
       "      <td>Transient</td>\n",
       "      <td>0</td>\n",
       "      <td>0</td>\n",
       "    </tr>\n",
       "  </tbody>\n",
       "</table>\n",
       "</div>"
      ],
      "text/plain": [
       "             hotel  is_canceled  adults  children  babies meal country  \\\n",
       "30    Resort Hotel            0       1       0.0       0   BB     NaN   \n",
       "4127  Resort Hotel            1       0       0.0       0   SC     NaN   \n",
       "\n",
       "     market_segment distribution_channel reserved_room_type  booking_changes  \\\n",
       "30           Direct               Direct                  A                2   \n",
       "4127  Offline TA/TO                TA/TO                  P                0   \n",
       "\n",
       "     deposit_type  days_in_waiting_list customer_type  \\\n",
       "30     No Deposit                     0     Transient   \n",
       "4127   No Deposit                     0     Transient   \n",
       "\n",
       "      required_car_parking_spaces  total_of_special_requests  \n",
       "30                              0                          2  \n",
       "4127                            0                          0  "
      ]
     },
     "execution_count": 18,
     "metadata": {},
     "output_type": "execute_result"
    }
   ],
   "source": [
    "#cek row yang memiliki value nan pada df['country']\n",
    "\n",
    "df[df['country'].isna()]"
   ]
  },
  {
   "cell_type": "code",
   "execution_count": 24,
   "metadata": {
    "ExecuteTime": {
     "end_time": "2020-08-11T03:39:37.912496Z",
     "start_time": "2020-08-11T03:39:37.901526Z"
    }
   },
   "outputs": [
    {
     "data": {
      "text/plain": [
       "PRT    3174\n",
       "ESP     550\n",
       "GBR     505\n",
       "IRL     172\n",
       "FRA     113\n",
       "Name: country, dtype: int64"
      ]
     },
     "execution_count": 24,
     "metadata": {},
     "output_type": "execute_result"
    }
   ],
   "source": [
    "#Melihat frekuensi kemunculan data pada feature row\n",
    "df['country'].value_counts().head()"
   ]
  },
  {
   "cell_type": "markdown",
   "metadata": {},
   "source": [
    "Karena data yang paling banyak muncul pada coloumn country 'PRT' maka data nan dapat kita isi dengan value 'PRT', Lalu kita akan melakukan pengisian pada missing values berdasarkan hasil ini dan mencoba untuk menampilkan kembali data yang bermasalah tadi."
   ]
  },
  {
   "cell_type": "code",
   "execution_count": 25,
   "metadata": {
    "ExecuteTime": {
     "end_time": "2020-08-11T03:41:21.077011Z",
     "start_time": "2020-08-11T03:41:21.070031Z"
    }
   },
   "outputs": [],
   "source": [
    "df['country'] = df['country'].fillna('PRT')"
   ]
  },
  {
   "cell_type": "code",
   "execution_count": 32,
   "metadata": {
    "ExecuteTime": {
     "end_time": "2020-08-11T03:44:12.126021Z",
     "start_time": "2020-08-11T03:44:12.109066Z"
    }
   },
   "outputs": [
    {
     "data": {
      "text/html": [
       "<div>\n",
       "<style scoped>\n",
       "    .dataframe tbody tr th:only-of-type {\n",
       "        vertical-align: middle;\n",
       "    }\n",
       "\n",
       "    .dataframe tbody tr th {\n",
       "        vertical-align: top;\n",
       "    }\n",
       "\n",
       "    .dataframe thead th {\n",
       "        text-align: right;\n",
       "    }\n",
       "</style>\n",
       "<table border=\"1\" class=\"dataframe\">\n",
       "  <thead>\n",
       "    <tr style=\"text-align: right;\">\n",
       "      <th></th>\n",
       "      <th>Variables/ Columns</th>\n",
       "      <th>Null Values</th>\n",
       "    </tr>\n",
       "  </thead>\n",
       "  <tbody>\n",
       "    <tr>\n",
       "      <th>0</th>\n",
       "      <td>country</td>\n",
       "      <td>0</td>\n",
       "    </tr>\n",
       "  </tbody>\n",
       "</table>\n",
       "</div>"
      ],
      "text/plain": [
       "  Variables/ Columns  Null Values \n",
       "0            country             0"
      ]
     },
     "execution_count": 32,
     "metadata": {},
     "output_type": "execute_result"
    }
   ],
   "source": [
    "pd.DataFrame({'Variables/ Columns' : df[['country']].columns,'Null Values ': df[['country']].isna().sum() }).reset_index(drop = True)"
   ]
  },
  {
   "cell_type": "markdown",
   "metadata": {},
   "source": [
    "## B. Exploratory Data Analysis"
   ]
  },
  {
   "cell_type": "code",
   "execution_count": 40,
   "metadata": {
    "ExecuteTime": {
     "end_time": "2020-08-11T03:51:55.296004Z",
     "start_time": "2020-08-11T03:51:55.281045Z"
    }
   },
   "outputs": [],
   "source": [
    "df_cancellation = df.groupby(by=\"is_canceled\").count().reset_index()['hotel']\n",
    "df_cancellation\n",
    "\n"
   ]
  },
  {
   "cell_type": "code",
   "execution_count": 41,
   "metadata": {
    "ExecuteTime": {
     "end_time": "2020-08-11T03:51:57.342145Z",
     "start_time": "2020-08-11T03:51:57.335163Z"
    }
   },
   "outputs": [
    {
     "data": {
      "text/plain": [
       "0    2702\n",
       "1    2298\n",
       "Name: hotel, dtype: int64"
      ]
     },
     "execution_count": 41,
     "metadata": {},
     "output_type": "execute_result"
    }
   ],
   "source": [
    "df_cancellation"
   ]
  },
  {
   "cell_type": "markdown",
   "metadata": {},
   "source": [
    "### Melihat diagram Presentase antara booking cancelled or not cancelled"
   ]
  },
  {
   "cell_type": "code",
   "execution_count": 47,
   "metadata": {
    "ExecuteTime": {
     "end_time": "2020-08-11T04:01:46.618086Z",
     "start_time": "2020-08-11T04:01:46.391638Z"
    }
   },
   "outputs": [
    {
     "data": {
      "image/png": "[encoded data removed]",
      "text/plain": [
       "<Figure size 720x576 with 1 Axes>"
      ]
     },
     "metadata": {},
     "output_type": "display_data"
    }
   ],
   "source": [
    "\n",
    "colors = [\"lightcoral\",\"lightskyblue\"]\n",
    "plt.figure(figsize=(10,8))\n",
    "labels = 'Not Cancelled','Cancelled'\n",
    "plt.pie(df_cancellation,autopct = '%.2f',colors=colors,shadow=True,startangle=140,\n",
    "       textprops = {'fontsize' : 17, 'color' : 'white'}, explode = (0.1,0))\n",
    "plt.axis('equal') #bentuk lingkaran\n",
    "plt.legend(labels, loc='lower left', fontsize = 13)\n",
    "plt.show()"
   ]
  },
  {
   "cell_type": "markdown",
   "metadata": {
    "ExecuteTime": {
     "end_time": "2020-08-11T03:54:03.645844Z",
     "start_time": "2020-08-11T03:54:03.473793Z"
    }
   },
   "source": [
    "Dari plot di atas kita dapat melihat bahwa dari total 5000 pesanan, ada 45.96% pesanan atau sekitar 2298 pesanan yang di cancel sehingga menyisakan 54.06% pesanan atau sekitar 2702 pesanan yang tidak di cancel."
   ]
  },
  {
   "cell_type": "code",
   "execution_count": 57,
   "metadata": {
    "ExecuteTime": {
     "end_time": "2020-08-11T04:12:06.967106Z",
     "start_time": "2020-08-11T04:12:06.949153Z"
    }
   },
   "outputs": [
    {
     "data": {
      "text/html": [
       "<div>\n",
       "<style scoped>\n",
       "    .dataframe tbody tr th:only-of-type {\n",
       "        vertical-align: middle;\n",
       "    }\n",
       "\n",
       "    .dataframe tbody tr th {\n",
       "        vertical-align: top;\n",
       "    }\n",
       "\n",
       "    .dataframe thead th {\n",
       "        text-align: right;\n",
       "    }\n",
       "</style>\n",
       "<table border=\"1\" class=\"dataframe\">\n",
       "  <thead>\n",
       "    <tr style=\"text-align: right;\">\n",
       "      <th></th>\n",
       "      <th>hotel</th>\n",
       "      <th>meal</th>\n",
       "      <th>country</th>\n",
       "      <th>market_segment</th>\n",
       "      <th>distribution_channel</th>\n",
       "      <th>reserved_room_type</th>\n",
       "      <th>deposit_type</th>\n",
       "      <th>customer_type</th>\n",
       "    </tr>\n",
       "  </thead>\n",
       "  <tbody>\n",
       "    <tr>\n",
       "      <th>0</th>\n",
       "      <td>Resort Hotel</td>\n",
       "      <td>BB</td>\n",
       "      <td>PRT</td>\n",
       "      <td>Direct</td>\n",
       "      <td>Direct</td>\n",
       "      <td>C</td>\n",
       "      <td>No Deposit</td>\n",
       "      <td>Transient</td>\n",
       "    </tr>\n",
       "    <tr>\n",
       "      <th>1</th>\n",
       "      <td>Resort Hotel</td>\n",
       "      <td>BB</td>\n",
       "      <td>PRT</td>\n",
       "      <td>Direct</td>\n",
       "      <td>Direct</td>\n",
       "      <td>C</td>\n",
       "      <td>No Deposit</td>\n",
       "      <td>Transient</td>\n",
       "    </tr>\n",
       "    <tr>\n",
       "      <th>2</th>\n",
       "      <td>Resort Hotel</td>\n",
       "      <td>BB</td>\n",
       "      <td>GBR</td>\n",
       "      <td>Direct</td>\n",
       "      <td>Direct</td>\n",
       "      <td>A</td>\n",
       "      <td>No Deposit</td>\n",
       "      <td>Transient</td>\n",
       "    </tr>\n",
       "    <tr>\n",
       "      <th>3</th>\n",
       "      <td>Resort Hotel</td>\n",
       "      <td>BB</td>\n",
       "      <td>GBR</td>\n",
       "      <td>Corporate</td>\n",
       "      <td>Corporate</td>\n",
       "      <td>A</td>\n",
       "      <td>No Deposit</td>\n",
       "      <td>Transient</td>\n",
       "    </tr>\n",
       "    <tr>\n",
       "      <th>4</th>\n",
       "      <td>Resort Hotel</td>\n",
       "      <td>BB</td>\n",
       "      <td>GBR</td>\n",
       "      <td>Online TA</td>\n",
       "      <td>TA/TO</td>\n",
       "      <td>A</td>\n",
       "      <td>No Deposit</td>\n",
       "      <td>Transient</td>\n",
       "    </tr>\n",
       "  </tbody>\n",
       "</table>\n",
       "</div>"
      ],
      "text/plain": [
       "          hotel meal country market_segment distribution_channel  \\\n",
       "0  Resort Hotel   BB     PRT         Direct               Direct   \n",
       "1  Resort Hotel   BB     PRT         Direct               Direct   \n",
       "2  Resort Hotel   BB     GBR         Direct               Direct   \n",
       "3  Resort Hotel   BB     GBR      Corporate            Corporate   \n",
       "4  Resort Hotel   BB     GBR      Online TA                TA/TO   \n",
       "\n",
       "  reserved_room_type deposit_type customer_type  \n",
       "0                  C   No Deposit     Transient  \n",
       "1                  C   No Deposit     Transient  \n",
       "2                  A   No Deposit     Transient  \n",
       "3                  A   No Deposit     Transient  \n",
       "4                  A   No Deposit     Transient  "
      ]
     },
     "execution_count": 57,
     "metadata": {},
     "output_type": "execute_result"
    }
   ],
   "source": [
    "## Memisah feature/kolom  yang tergolong data kategorikal\n",
    "df_cat = df.loc[:, df.dtypes == np.object]\n",
    "df_cat.head()"
   ]
  },
  {
   "cell_type": "code",
   "execution_count": 63,
   "metadata": {
    "ExecuteTime": {
     "end_time": "2020-08-11T04:25:24.840723Z",
     "start_time": "2020-08-11T04:25:24.815790Z"
    }
   },
   "outputs": [
    {
     "data": {
      "text/html": [
       "<div>\n",
       "<style scoped>\n",
       "    .dataframe tbody tr th:only-of-type {\n",
       "        vertical-align: middle;\n",
       "    }\n",
       "\n",
       "    .dataframe tbody tr th {\n",
       "        vertical-align: top;\n",
       "    }\n",
       "\n",
       "    .dataframe thead th {\n",
       "        text-align: right;\n",
       "    }\n",
       "</style>\n",
       "<table border=\"1\" class=\"dataframe\">\n",
       "  <thead>\n",
       "    <tr style=\"text-align: right;\">\n",
       "      <th></th>\n",
       "      <th>is_canceled</th>\n",
       "      <th>adults</th>\n",
       "      <th>children</th>\n",
       "      <th>babies</th>\n",
       "      <th>booking_changes</th>\n",
       "      <th>days_in_waiting_list</th>\n",
       "      <th>required_car_parking_spaces</th>\n",
       "      <th>total_of_special_requests</th>\n",
       "    </tr>\n",
       "  </thead>\n",
       "  <tbody>\n",
       "    <tr>\n",
       "      <th>0</th>\n",
       "      <td>0</td>\n",
       "      <td>2</td>\n",
       "      <td>0.0</td>\n",
       "      <td>0</td>\n",
       "      <td>3</td>\n",
       "      <td>0</td>\n",
       "      <td>0</td>\n",
       "      <td>0</td>\n",
       "    </tr>\n",
       "    <tr>\n",
       "      <th>1</th>\n",
       "      <td>0</td>\n",
       "      <td>2</td>\n",
       "      <td>0.0</td>\n",
       "      <td>0</td>\n",
       "      <td>4</td>\n",
       "      <td>0</td>\n",
       "      <td>0</td>\n",
       "      <td>0</td>\n",
       "    </tr>\n",
       "    <tr>\n",
       "      <th>2</th>\n",
       "      <td>0</td>\n",
       "      <td>1</td>\n",
       "      <td>0.0</td>\n",
       "      <td>0</td>\n",
       "      <td>0</td>\n",
       "      <td>0</td>\n",
       "      <td>0</td>\n",
       "      <td>0</td>\n",
       "    </tr>\n",
       "    <tr>\n",
       "      <th>3</th>\n",
       "      <td>0</td>\n",
       "      <td>1</td>\n",
       "      <td>0.0</td>\n",
       "      <td>0</td>\n",
       "      <td>0</td>\n",
       "      <td>0</td>\n",
       "      <td>0</td>\n",
       "      <td>0</td>\n",
       "    </tr>\n",
       "    <tr>\n",
       "      <th>4</th>\n",
       "      <td>0</td>\n",
       "      <td>2</td>\n",
       "      <td>0.0</td>\n",
       "      <td>0</td>\n",
       "      <td>0</td>\n",
       "      <td>0</td>\n",
       "      <td>0</td>\n",
       "      <td>1</td>\n",
       "    </tr>\n",
       "    <tr>\n",
       "      <th>...</th>\n",
       "      <td>...</td>\n",
       "      <td>...</td>\n",
       "      <td>...</td>\n",
       "      <td>...</td>\n",
       "      <td>...</td>\n",
       "      <td>...</td>\n",
       "      <td>...</td>\n",
       "      <td>...</td>\n",
       "    </tr>\n",
       "    <tr>\n",
       "      <th>4995</th>\n",
       "      <td>1</td>\n",
       "      <td>2</td>\n",
       "      <td>0.0</td>\n",
       "      <td>0</td>\n",
       "      <td>0</td>\n",
       "      <td>0</td>\n",
       "      <td>0</td>\n",
       "      <td>0</td>\n",
       "    </tr>\n",
       "    <tr>\n",
       "      <th>4996</th>\n",
       "      <td>1</td>\n",
       "      <td>2</td>\n",
       "      <td>0.0</td>\n",
       "      <td>0</td>\n",
       "      <td>0</td>\n",
       "      <td>0</td>\n",
       "      <td>0</td>\n",
       "      <td>0</td>\n",
       "    </tr>\n",
       "    <tr>\n",
       "      <th>4997</th>\n",
       "      <td>1</td>\n",
       "      <td>2</td>\n",
       "      <td>0.0</td>\n",
       "      <td>0</td>\n",
       "      <td>0</td>\n",
       "      <td>0</td>\n",
       "      <td>0</td>\n",
       "      <td>0</td>\n",
       "    </tr>\n",
       "    <tr>\n",
       "      <th>4998</th>\n",
       "      <td>1</td>\n",
       "      <td>2</td>\n",
       "      <td>0.0</td>\n",
       "      <td>0</td>\n",
       "      <td>0</td>\n",
       "      <td>0</td>\n",
       "      <td>0</td>\n",
       "      <td>0</td>\n",
       "    </tr>\n",
       "    <tr>\n",
       "      <th>4999</th>\n",
       "      <td>1</td>\n",
       "      <td>2</td>\n",
       "      <td>0.0</td>\n",
       "      <td>0</td>\n",
       "      <td>0</td>\n",
       "      <td>0</td>\n",
       "      <td>0</td>\n",
       "      <td>0</td>\n",
       "    </tr>\n",
       "  </tbody>\n",
       "</table>\n",
       "<p>5000 rows × 8 columns</p>\n",
       "</div>"
      ],
      "text/plain": [
       "      is_canceled  adults  children  babies  booking_changes  \\\n",
       "0               0       2       0.0       0                3   \n",
       "1               0       2       0.0       0                4   \n",
       "2               0       1       0.0       0                0   \n",
       "3               0       1       0.0       0                0   \n",
       "4               0       2       0.0       0                0   \n",
       "...           ...     ...       ...     ...              ...   \n",
       "4995            1       2       0.0       0                0   \n",
       "4996            1       2       0.0       0                0   \n",
       "4997            1       2       0.0       0                0   \n",
       "4998            1       2       0.0       0                0   \n",
       "4999            1       2       0.0       0                0   \n",
       "\n",
       "      days_in_waiting_list  required_car_parking_spaces  \\\n",
       "0                        0                            0   \n",
       "1                        0                            0   \n",
       "2                        0                            0   \n",
       "3                        0                            0   \n",
       "4                        0                            0   \n",
       "...                    ...                          ...   \n",
       "4995                     0                            0   \n",
       "4996                     0                            0   \n",
       "4997                     0                            0   \n",
       "4998                     0                            0   \n",
       "4999                     0                            0   \n",
       "\n",
       "      total_of_special_requests  \n",
       "0                             0  \n",
       "1                             0  \n",
       "2                             0  \n",
       "3                             0  \n",
       "4                             1  \n",
       "...                         ...  \n",
       "4995                          0  \n",
       "4996                          0  \n",
       "4997                          0  \n",
       "4998                          0  \n",
       "4999                          0  \n",
       "\n",
       "[5000 rows x 8 columns]"
      ]
     },
     "execution_count": 63,
     "metadata": {},
     "output_type": "execute_result"
    }
   ],
   "source": [
    "#memisahkan feature/kolom yang tergolong numeric\n",
    "df_numeric = df.loc[:, df.dtypes != np.object]\n",
    "df_numeric\n"
   ]
  },
  {
   "cell_type": "code",
   "execution_count": 66,
   "metadata": {
    "ExecuteTime": {
     "end_time": "2020-08-11T04:26:01.154235Z",
     "start_time": "2020-08-11T04:25:59.981082Z"
    },
    "scrolled": false
   },
   "outputs": [
    {
     "data": {
      "image/png": "[encoded data removed]",
      "text/plain": [
       "<Figure size 720x432 with 1 Axes>"
      ]
     },
     "metadata": {
      "needs_background": "light"
     },
     "output_type": "display_data"
    },
    {
     "data": {
      "image/png": "[encoded data removed]",
      "text/plain": [
       "<Figure size 720x432 with 1 Axes>"
      ]
     },
     "metadata": {
      "needs_background": "light"
     },
     "output_type": "display_data"
    },
    {
     "data": {
      "image/png": "[encoded data removed]",
      "text/plain": [
       "<Figure size 720x432 with 1 Axes>"
      ]
     },
     "metadata": {
      "needs_background": "light"
     },
     "output_type": "display_data"
    },
    {
     "data": {
      "image/png": "[encoded data removed]",
      "text/plain": [
       "<Figure size 720x432 with 1 Axes>"
      ]
     },
     "metadata": {
      "needs_background": "light"
     },
     "output_type": "display_data"
    },
    {
     "data": {
      "image/png": "[encoded data removed]",
      "text/plain": [
       "<Figure size 720x432 with 1 Axes>"
      ]
     },
     "metadata": {
      "needs_background": "light"
     },
     "output_type": "display_data"
    },
    {
     "data": {
      "image/png": "[encoded data removed]",
      "text/plain": [
       "<Figure size 720x432 with 1 Axes>"
      ]
     },
     "metadata": {
      "needs_background": "light"
     },
     "output_type": "display_data"
    },
    {
     "data": {
      "image/png": "[encoded data removed]",
      "text/plain": [
       "<Figure size 720x432 with 1 Axes>"
      ]
     },
     "metadata": {
      "needs_background": "light"
     },
     "output_type": "display_data"
    }
   ],
   "source": [
    "for columns in df_numeric.drop(columns=['is_canceled']):\n",
    "    plt.figure(figsize = (10,6))\n",
    "    ax = sns.boxplot(x = columns, data = df)\n",
    "    \n",
    "    plt.xlabel(columns, fontsize = 20);   \n",
    "  "
   ]
  },
  {
   "cell_type": "code",
   "execution_count": 67,
   "metadata": {
    "ExecuteTime": {
     "end_time": "2020-08-11T04:50:52.483382Z",
     "start_time": "2020-08-11T04:50:52.474405Z"
    }
   },
   "outputs": [
    {
     "data": {
      "text/plain": [
       "array([ 2,  1,  3,  4, 40, 26, 50, 27, 55,  0, 20,  6,  5, 10],\n",
       "      dtype=int64)"
      ]
     },
     "execution_count": 67,
     "metadata": {},
     "output_type": "execute_result"
    }
   ],
   "source": [
    "df['adults'].unique()"
   ]
  },
  {
   "cell_type": "markdown",
   "metadata": {},
   "source": [
    "Bedasarkan dari pengamatan boxplot, ditemukan beberapa column yang memiliki nilai ekstrim yang cukup jauh.Apabila data outlier akan kita gunakan, maka proses scalling yang akan kita gunakan yaitu ``RobustScaller()``, sehingga setelah dilakukan proces scalling data tidak akan terpengaruh terhadap data outlier."
   ]
  },
  {
   "cell_type": "code",
   "execution_count": 61,
   "metadata": {
    "ExecuteTime": {
     "end_time": "2020-08-11T04:12:38.761125Z",
     "start_time": "2020-08-11T04:12:36.667897Z"
    }
   },
   "outputs": [
    {
     "data": {
      "text/plain": [
       "<Figure size 576x720 with 0 Axes>"
      ]
     },
     "metadata": {},
     "output_type": "display_data"
    },
    {
     "data": {
      "image/png": "[encoded data removed]",
      "text/plain": [
       "<Figure size 720x432 with 1 Axes>"
      ]
     },
     "metadata": {
      "needs_background": "light"
     },
     "output_type": "display_data"
    },
    {
     "data": {
      "image/png": "[encoded data removed]",
      "text/plain": [
       "<Figure size 720x432 with 1 Axes>"
      ]
     },
     "metadata": {
      "needs_background": "light"
     },
     "output_type": "display_data"
    },
    {
     "data": {
      "image/png": "[encoded data removed]",
      "text/plain": [
       "<Figure size 720x432 with 1 Axes>"
      ]
     },
     "metadata": {
      "needs_background": "light"
     },
     "output_type": "display_data"
    },
    {
     "data": {
      "image/png": "[encoded data removed]",
      "text/plain": [
       "<Figure size 720x432 with 1 Axes>"
      ]
     },
     "metadata": {
      "needs_background": "light"
     },
     "output_type": "display_data"
    },
    {
     "data": {
      "image/png": "[encoded data removed]",
      "text/plain": [
       "<Figure size 720x432 with 1 Axes>"
      ]
     },
     "metadata": {
      "needs_background": "light"
     },
     "output_type": "display_data"
    },
    {
     "data": {
      "image/png": "[encoded data removed]",
      "text/plain": [
       "<Figure size 720x432 with 1 Axes>"
      ]
     },
     "metadata": {
      "needs_background": "light"
     },
     "output_type": "display_data"
    }
   ],
   "source": [
    "%matplotlib inline\n",
    "plt.figure(figsize=(8,10))\n",
    "for columns in df_cat.drop(columns=['hotel', 'country']):\n",
    "    plt.figure(figsize = (10,6))\n",
    "    ax = sns.countplot(x = columns, data = df, hue = 'is_canceled',palette=\"rocket\")\n",
    "     \n",
    "    total = len(df[columns])\n",
    "    for fit in ax.patches:\n",
    "        pct = '{:.1f}%'.format(100 * fit.get_height()/total)\n",
    "        xpos = fit.get_x() + 0.14\n",
    "        ypos = fit.get_height()\n",
    "        ax.annotate(pct, (xpos, ypos), fontsize = 13)\n",
    "        \n",
    "    plt.xlabel(columns, fontsize = 20)    \n",
    "    plt.show()"
   ]
  },
  {
   "cell_type": "markdown",
   "metadata": {},
   "source": [
    "1. Jenis makanan yang sering dipesan adalah jenis BB yaitu (Bed & Breakfast) dengan total pemesanan sebanyak 38%\n",
    "2. Segmentasi dari pesanan yang di pesan kebanyakan adalah melalui Online dengan presentasi sebesar 21.1%, namun sisa di katergori ini menyumbang sebanyak 22.0% pembatalan yang mana pada segment pemesanan online angka cancellation lebih tinggi dibandingkan dengan segment pemesanan lainnya.\n",
    "3. Channel Distribusi kebanyakan melalui Travel Agent \n",
    "4. Tipe ruangan yang di reservasi kebanyakan tipe A dengan total 33% dari total semua pemesanan, dengan 30% pembatalan.\n",
    "5. Sebagian besar dari pemesan tidak melakukan jaminan deposit sebanyak (52%)\n",
    "6. Tipe booking yang terbanyak adalah Transient, yaitu ketika booking ini dilakukan mandiri.\n"
   ]
  },
  {
   "cell_type": "markdown",
   "metadata": {},
   "source": [
    "## C. Model Building & Hyper-parameter Tuning"
   ]
  },
  {
   "cell_type": "code",
   "execution_count": 68,
   "metadata": {
    "ExecuteTime": {
     "end_time": "2020-08-11T04:59:58.409644Z",
     "start_time": "2020-08-11T04:59:58.404657Z"
    }
   },
   "outputs": [],
   "source": [
    "df2 = df.copy()"
   ]
  },
  {
   "cell_type": "markdown",
   "metadata": {},
   "source": [
    "Pada step Machine Learning saya akan menggunakan metode drop na untuk preprocessing data outlier"
   ]
  },
  {
   "cell_type": "code",
   "execution_count": 70,
   "metadata": {
    "ExecuteTime": {
     "end_time": "2020-08-11T05:01:17.438703Z",
     "start_time": "2020-08-11T05:01:17.425700Z"
    }
   },
   "outputs": [],
   "source": [
    "#Preprocessing pada data nan dengan cara me-drop data nan\n",
    "df2.dropna(inplace=True)"
   ]
  },
  {
   "cell_type": "markdown",
   "metadata": {},
   "source": [
    "### Melihat unique value dan describe pada tiap kolom"
   ]
  },
  {
   "cell_type": "code",
   "execution_count": 73,
   "metadata": {
    "ExecuteTime": {
     "end_time": "2020-08-11T05:03:28.116018Z",
     "start_time": "2020-08-11T05:03:28.067149Z"
    }
   },
   "outputs": [
    {
     "data": {
      "text/html": [
       "<div>\n",
       "<style scoped>\n",
       "    .dataframe tbody tr th:only-of-type {\n",
       "        vertical-align: middle;\n",
       "    }\n",
       "\n",
       "    .dataframe tbody tr th {\n",
       "        vertical-align: top;\n",
       "    }\n",
       "\n",
       "    .dataframe thead th {\n",
       "        text-align: right;\n",
       "    }\n",
       "</style>\n",
       "<table border=\"1\" class=\"dataframe\">\n",
       "  <thead>\n",
       "    <tr style=\"text-align: right;\">\n",
       "      <th></th>\n",
       "      <th>count</th>\n",
       "      <th>unique</th>\n",
       "      <th>top</th>\n",
       "      <th>freq</th>\n",
       "    </tr>\n",
       "  </thead>\n",
       "  <tbody>\n",
       "    <tr>\n",
       "      <th>hotel</th>\n",
       "      <td>5000</td>\n",
       "      <td>1</td>\n",
       "      <td>Resort Hotel</td>\n",
       "      <td>5000</td>\n",
       "    </tr>\n",
       "    <tr>\n",
       "      <th>meal</th>\n",
       "      <td>5000</td>\n",
       "      <td>5</td>\n",
       "      <td>BB</td>\n",
       "      <td>3418</td>\n",
       "    </tr>\n",
       "    <tr>\n",
       "      <th>country</th>\n",
       "      <td>5000</td>\n",
       "      <td>56</td>\n",
       "      <td>PRT</td>\n",
       "      <td>3176</td>\n",
       "    </tr>\n",
       "    <tr>\n",
       "      <th>market_segment</th>\n",
       "      <td>5000</td>\n",
       "      <td>6</td>\n",
       "      <td>Online TA</td>\n",
       "      <td>2156</td>\n",
       "    </tr>\n",
       "    <tr>\n",
       "      <th>distribution_channel</th>\n",
       "      <td>5000</td>\n",
       "      <td>3</td>\n",
       "      <td>TA/TO</td>\n",
       "      <td>3657</td>\n",
       "    </tr>\n",
       "    <tr>\n",
       "      <th>reserved_room_type</th>\n",
       "      <td>5000</td>\n",
       "      <td>9</td>\n",
       "      <td>A</td>\n",
       "      <td>3167</td>\n",
       "    </tr>\n",
       "    <tr>\n",
       "      <th>deposit_type</th>\n",
       "      <td>5000</td>\n",
       "      <td>3</td>\n",
       "      <td>No Deposit</td>\n",
       "      <td>4461</td>\n",
       "    </tr>\n",
       "    <tr>\n",
       "      <th>customer_type</th>\n",
       "      <td>5000</td>\n",
       "      <td>4</td>\n",
       "      <td>Transient</td>\n",
       "      <td>3699</td>\n",
       "    </tr>\n",
       "  </tbody>\n",
       "</table>\n",
       "</div>"
      ],
      "text/plain": [
       "                     count unique           top  freq\n",
       "hotel                 5000      1  Resort Hotel  5000\n",
       "meal                  5000      5            BB  3418\n",
       "country               5000     56           PRT  3176\n",
       "market_segment        5000      6     Online TA  2156\n",
       "distribution_channel  5000      3         TA/TO  3657\n",
       "reserved_room_type    5000      9             A  3167\n",
       "deposit_type          5000      3    No Deposit  4461\n",
       "customer_type         5000      4     Transient  3699"
      ]
     },
     "execution_count": 73,
     "metadata": {},
     "output_type": "execute_result"
    }
   ],
   "source": [
    "df2.describe(include='object').T"
   ]
  },
  {
   "cell_type": "code",
   "execution_count": 72,
   "metadata": {
    "ExecuteTime": {
     "end_time": "2020-08-11T05:03:15.578045Z",
     "start_time": "2020-08-11T05:03:15.524187Z"
    }
   },
   "outputs": [
    {
     "data": {
      "text/html": [
       "<div>\n",
       "<style scoped>\n",
       "    .dataframe tbody tr th:only-of-type {\n",
       "        vertical-align: middle;\n",
       "    }\n",
       "\n",
       "    .dataframe tbody tr th {\n",
       "        vertical-align: top;\n",
       "    }\n",
       "\n",
       "    .dataframe thead th {\n",
       "        text-align: right;\n",
       "    }\n",
       "</style>\n",
       "<table border=\"1\" class=\"dataframe\">\n",
       "  <thead>\n",
       "    <tr style=\"text-align: right;\">\n",
       "      <th></th>\n",
       "      <th>count</th>\n",
       "      <th>mean</th>\n",
       "      <th>std</th>\n",
       "      <th>min</th>\n",
       "      <th>25%</th>\n",
       "      <th>50%</th>\n",
       "      <th>75%</th>\n",
       "      <th>max</th>\n",
       "    </tr>\n",
       "  </thead>\n",
       "  <tbody>\n",
       "    <tr>\n",
       "      <th>is_canceled</th>\n",
       "      <td>5000.0</td>\n",
       "      <td>0.4596</td>\n",
       "      <td>0.498415</td>\n",
       "      <td>0.0</td>\n",
       "      <td>0.0</td>\n",
       "      <td>0.0</td>\n",
       "      <td>1.0</td>\n",
       "      <td>1.0</td>\n",
       "    </tr>\n",
       "    <tr>\n",
       "      <th>adults</th>\n",
       "      <td>5000.0</td>\n",
       "      <td>1.9698</td>\n",
       "      <td>1.566326</td>\n",
       "      <td>0.0</td>\n",
       "      <td>2.0</td>\n",
       "      <td>2.0</td>\n",
       "      <td>2.0</td>\n",
       "      <td>55.0</td>\n",
       "    </tr>\n",
       "    <tr>\n",
       "      <th>children</th>\n",
       "      <td>5000.0</td>\n",
       "      <td>0.1156</td>\n",
       "      <td>0.444833</td>\n",
       "      <td>0.0</td>\n",
       "      <td>0.0</td>\n",
       "      <td>0.0</td>\n",
       "      <td>0.0</td>\n",
       "      <td>10.0</td>\n",
       "    </tr>\n",
       "    <tr>\n",
       "      <th>babies</th>\n",
       "      <td>5000.0</td>\n",
       "      <td>0.0148</td>\n",
       "      <td>0.122409</td>\n",
       "      <td>0.0</td>\n",
       "      <td>0.0</td>\n",
       "      <td>0.0</td>\n",
       "      <td>0.0</td>\n",
       "      <td>2.0</td>\n",
       "    </tr>\n",
       "    <tr>\n",
       "      <th>booking_changes</th>\n",
       "      <td>5000.0</td>\n",
       "      <td>0.2072</td>\n",
       "      <td>0.612489</td>\n",
       "      <td>0.0</td>\n",
       "      <td>0.0</td>\n",
       "      <td>0.0</td>\n",
       "      <td>0.0</td>\n",
       "      <td>17.0</td>\n",
       "    </tr>\n",
       "    <tr>\n",
       "      <th>days_in_waiting_list</th>\n",
       "      <td>5000.0</td>\n",
       "      <td>1.7720</td>\n",
       "      <td>13.545358</td>\n",
       "      <td>0.0</td>\n",
       "      <td>0.0</td>\n",
       "      <td>0.0</td>\n",
       "      <td>0.0</td>\n",
       "      <td>122.0</td>\n",
       "    </tr>\n",
       "    <tr>\n",
       "      <th>required_car_parking_spaces</th>\n",
       "      <td>5000.0</td>\n",
       "      <td>0.0938</td>\n",
       "      <td>0.292948</td>\n",
       "      <td>0.0</td>\n",
       "      <td>0.0</td>\n",
       "      <td>0.0</td>\n",
       "      <td>0.0</td>\n",
       "      <td>2.0</td>\n",
       "    </tr>\n",
       "    <tr>\n",
       "      <th>total_of_special_requests</th>\n",
       "      <td>5000.0</td>\n",
       "      <td>0.6020</td>\n",
       "      <td>0.823245</td>\n",
       "      <td>0.0</td>\n",
       "      <td>0.0</td>\n",
       "      <td>0.0</td>\n",
       "      <td>1.0</td>\n",
       "      <td>4.0</td>\n",
       "    </tr>\n",
       "  </tbody>\n",
       "</table>\n",
       "</div>"
      ],
      "text/plain": [
       "                              count    mean        std  min  25%  50%  75%  \\\n",
       "is_canceled                  5000.0  0.4596   0.498415  0.0  0.0  0.0  1.0   \n",
       "adults                       5000.0  1.9698   1.566326  0.0  2.0  2.0  2.0   \n",
       "children                     5000.0  0.1156   0.444833  0.0  0.0  0.0  0.0   \n",
       "babies                       5000.0  0.0148   0.122409  0.0  0.0  0.0  0.0   \n",
       "booking_changes              5000.0  0.2072   0.612489  0.0  0.0  0.0  0.0   \n",
       "days_in_waiting_list         5000.0  1.7720  13.545358  0.0  0.0  0.0  0.0   \n",
       "required_car_parking_spaces  5000.0  0.0938   0.292948  0.0  0.0  0.0  0.0   \n",
       "total_of_special_requests    5000.0  0.6020   0.823245  0.0  0.0  0.0  1.0   \n",
       "\n",
       "                               max  \n",
       "is_canceled                    1.0  \n",
       "adults                        55.0  \n",
       "children                      10.0  \n",
       "babies                         2.0  \n",
       "booking_changes               17.0  \n",
       "days_in_waiting_list         122.0  \n",
       "required_car_parking_spaces    2.0  \n",
       "total_of_special_requests      4.0  "
      ]
     },
     "execution_count": 72,
     "metadata": {},
     "output_type": "execute_result"
    }
   ],
   "source": [
    "df2.describe(include='number').T"
   ]
  },
  {
   "cell_type": "markdown",
   "metadata": {
    "ExecuteTime": {
     "end_time": "2020-08-11T05:06:20.131758Z",
     "start_time": "2020-08-11T05:06:20.126772Z"
    }
   },
   "source": [
    "##### Melakukan Encoding pada data yang tergolong categorical agar mudah terbaca oleh model machine learning\n",
    "\n"
   ]
  },
  {
   "cell_type": "code",
   "execution_count": 76,
   "metadata": {
    "ExecuteTime": {
     "end_time": "2020-08-11T05:10:02.275542Z",
     "start_time": "2020-08-11T05:10:02.254598Z"
    }
   },
   "outputs": [],
   "source": [
    "labelencoder = LabelEncoder()\n",
    "onehotencoder = OneHotEncoder()\n",
    "df2['deposit_type_encode']=labelencoder.fit_transform(df2['deposit_type'])\n",
    "df2['customer_type_encode']=labelencoder.fit_transform(df2['customer_type'])\n",
    "df2['distribution_channel_encode']=labelencoder.fit_transform(df2['distribution_channel'])\n",
    "df2['meal_encode']=labelencoder.fit_transform(df2['meal'])\n",
    "df2['market_segment_encode']=labelencoder.fit_transform(df2['market_segment'])\n",
    "df2['reserved_room_type_encode']=labelencoder.fit_transform(df2['reserved_room_type'])\n",
    "df2['country_encode'] = labelencoder.fit_transform(df2['country'])\n"
   ]
  },
  {
   "cell_type": "markdown",
   "metadata": {
    "ExecuteTime": {
     "end_time": "2020-08-11T05:10:11.185990Z",
     "start_time": "2020-08-11T05:10:11.139116Z"
    }
   },
   "source": [
    "### Melihat korelasi antar feature"
   ]
  },
  {
   "cell_type": "code",
   "execution_count": 81,
   "metadata": {
    "ExecuteTime": {
     "end_time": "2020-08-11T05:31:08.171393Z",
     "start_time": "2020-08-11T05:31:08.153443Z"
    }
   },
   "outputs": [
    {
     "data": {
      "text/plain": [
       "country_encode                 0.525207\n",
       "deposit_type_encode            0.197458\n",
       "market_segment_encode          0.059106\n",
       "distribution_channel_encode    0.047328\n",
       "adults                         0.045200\n",
       "children                       0.024678\n",
       "customer_type_encode          -0.009799\n",
       "meal_encode                   -0.019277\n",
       "reserved_room_type_encode     -0.025465\n",
       "babies                        -0.029543\n",
       "total_of_special_requests     -0.083072\n",
       "days_in_waiting_list          -0.113426\n",
       "booking_changes               -0.181608\n",
       "required_car_parking_spaces   -0.295316\n",
       "Name: is_canceled, dtype: float64"
      ]
     },
     "execution_count": 81,
     "metadata": {},
     "output_type": "execute_result"
    }
   ],
   "source": [
    "correlation = df2.corr()[\"is_canceled\"]\n",
    "correlation.sort_values(ascending=False)[1:]"
   ]
  },
  {
   "cell_type": "code",
   "execution_count": 79,
   "metadata": {
    "ExecuteTime": {
     "end_time": "2020-08-11T05:25:07.161513Z",
     "start_time": "2020-08-11T05:25:05.139298Z"
    }
   },
   "outputs": [
    {
     "data": {
      "image/png": "[encoded data removed]",
      "text/plain": [
       "<Figure size 720x720 with 2 Axes>"
      ]
     },
     "metadata": {
      "needs_background": "light"
     },
     "output_type": "display_data"
    }
   ],
   "source": [
    "corr = df2.corr()\n",
    "fig, ax = plt.subplots(figsize = (10,10))\n",
    "colormap = sns.diverging_palette(220, 10, as_cmap=True)\n",
    "dropSelf = np.zeros_like(corr)\n",
    "dropSelf[np.triu_indices_from(dropSelf)] = True\n",
    "colormap = sns.diverging_palette(220, 10, as_cmap = True)\n",
    "sns.heatmap(corr, cmap=colormap, linewidths=0.5, annot=True, fmt=\".2f\", mask=dropSelf)\n",
    "plt.show()"
   ]
  },
  {
   "cell_type": "markdown",
   "metadata": {},
   "source": [
    "Dari hasil analisa correlation dan heatmap melihat seberapa kuat pengaruh tiap feature terhadap label ``is_cancelled``.\n",
    "\n",
    "Dan pemilihan '``fitur`` yang akhirnya saya nilai cukup kuat terhadap label ``is_cancelled`` adalah\n",
    "- `country_encode`\n",
    "- `adults`\n",
    "- `required_car_parking_spaces`\n",
    "- `booking_changes`\n",
    "- `days_in_waiting_list`\n",
    "- `deposit_type_encode`\n",
    "- `market_segment_encode`\n",
    "- `distribution_channel_encode`\n",
    "\n",
    "\n"
   ]
  },
  {
   "cell_type": "markdown",
   "metadata": {},
   "source": [
    "### Splitting Dataset"
   ]
  },
  {
   "cell_type": "code",
   "execution_count": 83,
   "metadata": {
    "ExecuteTime": {
     "end_time": "2020-08-11T05:41:58.758986Z",
     "start_time": "2020-08-11T05:41:58.752003Z"
    }
   },
   "outputs": [],
   "source": [
    "x = df2[['country_encode','adults','required_car_parking_spaces','booking_changes','days_in_waiting_list','deposit_type_encode',\n",
    "        'market_segment_encode','distribution_channel_encode']]\n",
    "y = df2[['is_canceled']]"
   ]
  },
  {
   "cell_type": "code",
   "execution_count": 84,
   "metadata": {
    "ExecuteTime": {
     "end_time": "2020-08-11T05:42:18.865285Z",
     "start_time": "2020-08-11T05:42:18.855311Z"
    }
   },
   "outputs": [],
   "source": [
    "x_train, x_test, y_train, y_test = train_test_split(x, y, test_size=0.20, random_state=42)"
   ]
  },
  {
   "cell_type": "markdown",
   "metadata": {
    "ExecuteTime": {
     "end_time": "2020-08-11T05:42:42.230802Z",
     "start_time": "2020-08-11T05:42:42.226810Z"
    }
   },
   "source": [
    "### Scalling dataset"
   ]
  },
  {
   "cell_type": "code",
   "execution_count": 85,
   "metadata": {
    "ExecuteTime": {
     "end_time": "2020-08-11T05:42:28.390470Z",
     "start_time": "2020-08-11T05:42:28.367532Z"
    }
   },
   "outputs": [],
   "source": [
    "x_train = RobustScaler().fit_transform(x_train)\n",
    "x_test = RobustScaler().fit_transform(x_test)"
   ]
  },
  {
   "cell_type": "markdown",
   "metadata": {},
   "source": [
    "## Fitting Model"
   ]
  },
  {
   "cell_type": "markdown",
   "metadata": {},
   "source": [
    "### Before Tunning\n"
   ]
  },
  {
   "cell_type": "markdown",
   "metadata": {},
   "source": [
    "Model yang digunakan yaitu RandomForestClassifier, DecisionTreeClassifier,LogisticRegression"
   ]
  },
  {
   "cell_type": "code",
   "execution_count": 87,
   "metadata": {
    "ExecuteTime": {
     "end_time": "2020-08-11T05:45:18.968270Z",
     "start_time": "2020-08-11T05:45:18.560601Z"
    }
   },
   "outputs": [
    {
     "data": {
      "text/plain": [
       "LogisticRegression()"
      ]
     },
     "execution_count": 87,
     "metadata": {},
     "output_type": "execute_result"
    }
   ],
   "source": [
    "\n",
    "model_RF = RandomForestClassifier()\n",
    "model_DT = DecisionTreeClassifier()\n",
    "model_LR = LogisticRegression()\n",
    "\n",
    "\n",
    "model_DT.fit(x_train, y_train)\n",
    "model_RF.fit(x_train, y_train)\n",
    "model_LR.fit(x_train, y_train)\n"
   ]
  },
  {
   "cell_type": "code",
   "execution_count": 88,
   "metadata": {
    "ExecuteTime": {
     "end_time": "2020-08-11T05:47:28.993534Z",
     "start_time": "2020-08-11T05:47:28.952601Z"
    }
   },
   "outputs": [],
   "source": [
    "#melakukan prediksi\n",
    "\n",
    "y_pred_DT = model_DT.predict(x_test) \n",
    "y_pred_RF = model_RF.predict(x_test) \n",
    "y_pred_LR = model_LR.predict(x_test)\n"
   ]
  },
  {
   "cell_type": "code",
   "execution_count": 94,
   "metadata": {
    "ExecuteTime": {
     "end_time": "2020-08-11T05:53:00.232215Z",
     "start_time": "2020-08-11T05:53:00.136694Z"
    }
   },
   "outputs": [
    {
     "name": "stdout",
     "output_type": "stream",
     "text": [
      "Decision Tree Model: 0.8715\n",
      " Random Forest Model : 0.8715 \n",
      " Linear Regression Model : 0.81275\n"
     ]
    }
   ],
   "source": [
    "### Melihat Performance Model \n",
    "print(f'Decision Tree Model: {model_DT.score(x_train,y_train)}\\n Random Forest Model : {model_RF.score(x_train, y_train)} \\n Linear Regression Model : {model_LR.score(x_train, y_train)}')"
   ]
  },
  {
   "cell_type": "markdown",
   "metadata": {},
   "source": [
    "\n",
    "Dari hasil performance result ketiga model sebelum dilakukan hyperparameter tuning, maka bisa dilihat bahwa model yang memiliki optimal performance adalah Decision  Tree dan Random Forest Model"
   ]
  },
  {
   "cell_type": "markdown",
   "metadata": {},
   "source": [
    "### Classification Report Before Tuning"
   ]
  },
  {
   "cell_type": "markdown",
   "metadata": {},
   "source": [
    "Decision Tree Classification Report"
   ]
  },
  {
   "cell_type": "code",
   "execution_count": 95,
   "metadata": {
    "ExecuteTime": {
     "end_time": "2020-08-11T05:55:10.817715Z",
     "start_time": "2020-08-11T05:55:10.801756Z"
    },
    "scrolled": true
   },
   "outputs": [
    {
     "name": "stdout",
     "output_type": "stream",
     "text": [
      "              precision    recall  f1-score   support\n",
      "\n",
      "           0       0.95      0.76      0.84       520\n",
      "           1       0.79      0.96      0.86       480\n",
      "\n",
      "    accuracy                           0.85      1000\n",
      "   macro avg       0.87      0.86      0.85      1000\n",
      "weighted avg       0.87      0.85      0.85      1000\n",
      "\n"
     ]
    }
   ],
   "source": [
    "print(classification_report(y_test, y_pred_DT))"
   ]
  },
  {
   "cell_type": "markdown",
   "metadata": {},
   "source": [
    "Random Forest Classification Report"
   ]
  },
  {
   "cell_type": "code",
   "execution_count": 96,
   "metadata": {
    "ExecuteTime": {
     "end_time": "2020-08-11T05:55:52.907984Z",
     "start_time": "2020-08-11T05:55:52.890034Z"
    },
    "scrolled": true
   },
   "outputs": [
    {
     "name": "stdout",
     "output_type": "stream",
     "text": [
      "              precision    recall  f1-score   support\n",
      "\n",
      "           0       0.95      0.76      0.85       520\n",
      "           1       0.79      0.96      0.86       480\n",
      "\n",
      "    accuracy                           0.85      1000\n",
      "   macro avg       0.87      0.86      0.85      1000\n",
      "weighted avg       0.87      0.85      0.85      1000\n",
      "\n"
     ]
    }
   ],
   "source": [
    "print(classification_report(y_test, y_pred_RF))"
   ]
  },
  {
   "cell_type": "markdown",
   "metadata": {},
   "source": [
    "Logisic Regression Classification Report"
   ]
  },
  {
   "cell_type": "code",
   "execution_count": 97,
   "metadata": {
    "ExecuteTime": {
     "end_time": "2020-08-11T05:56:21.104570Z",
     "start_time": "2020-08-11T05:56:21.091602Z"
    }
   },
   "outputs": [
    {
     "name": "stdout",
     "output_type": "stream",
     "text": [
      "              precision    recall  f1-score   support\n",
      "\n",
      "           0       0.88      0.69      0.77       520\n",
      "           1       0.73      0.90      0.80       480\n",
      "\n",
      "    accuracy                           0.79      1000\n",
      "   macro avg       0.80      0.79      0.79      1000\n",
      "weighted avg       0.81      0.79      0.79      1000\n",
      "\n"
     ]
    }
   ],
   "source": [
    "print(classification_report(y_test, y_pred_LR))"
   ]
  },
  {
   "cell_type": "markdown",
   "metadata": {},
   "source": [
    "### Confusion Metrics Before Tuning\n"
   ]
  },
  {
   "cell_type": "markdown",
   "metadata": {},
   "source": [
    "Decision Tree "
   ]
  },
  {
   "cell_type": "code",
   "execution_count": 98,
   "metadata": {
    "ExecuteTime": {
     "end_time": "2020-08-11T06:00:03.148589Z",
     "start_time": "2020-08-11T06:00:02.792540Z"
    }
   },
   "outputs": [
    {
     "data": {
      "image/png": "[encoded data removed]",
      "text/plain": [
       "<Figure size 576x360 with 2 Axes>"
      ]
     },
     "metadata": {
      "needs_background": "light"
     },
     "output_type": "display_data"
    }
   ],
   "source": [
    "f, ax = plt.subplots(figsize=(8,5))\n",
    "sns.heatmap(confusion_matrix(y_test, y_pred_DT), annot=True, fmt='.0f', ax=ax)\n",
    "plt.xlabel('y Predicted')\n",
    "plt.ylabel('y Actual')\n",
    "plt.show()"
   ]
  },
  {
   "cell_type": "markdown",
   "metadata": {},
   "source": [
    "Random Forest "
   ]
  },
  {
   "cell_type": "code",
   "execution_count": 99,
   "metadata": {
    "ExecuteTime": {
     "end_time": "2020-08-11T06:00:30.586000Z",
     "start_time": "2020-08-11T06:00:30.203982Z"
    }
   },
   "outputs": [
    {
     "data": {
      "image/png": "[encoded data removed]",
      "text/plain": [
       "<Figure size 576x360 with 2 Axes>"
      ]
     },
     "metadata": {
      "needs_background": "light"
     },
     "output_type": "display_data"
    }
   ],
   "source": [
    "f, ax = plt.subplots(figsize=(8,5))\n",
    "sns.heatmap(confusion_matrix(y_test, y_pred_RF), annot=True, fmt='.0f', ax=ax)\n",
    "plt.xlabel('y Predicted')\n",
    "plt.ylabel('y Actual')\n",
    "plt.show()"
   ]
  },
  {
   "cell_type": "markdown",
   "metadata": {},
   "source": [
    "Logistic Regression"
   ]
  },
  {
   "cell_type": "code",
   "execution_count": 100,
   "metadata": {
    "ExecuteTime": {
     "end_time": "2020-08-11T06:01:33.012108Z",
     "start_time": "2020-08-11T06:01:32.691433Z"
    }
   },
   "outputs": [
    {
     "data": {
      "image/png": "[encoded data removed]",
      "text/plain": [
       "<Figure size 576x360 with 2 Axes>"
      ]
     },
     "metadata": {
      "needs_background": "light"
     },
     "output_type": "display_data"
    }
   ],
   "source": [
    "f, ax = plt.subplots(figsize=(8,5))\n",
    "sns.heatmap(confusion_matrix(y_test, y_pred_LR), annot=True, fmt='.0f', ax=ax)\n",
    "plt.xlabel('y Predicted')\n",
    "plt.ylabel('y Actual')\n",
    "plt.show()"
   ]
  },
  {
   "cell_type": "markdown",
   "metadata": {
    "ExecuteTime": {
     "end_time": "2020-08-11T06:02:04.036528Z",
     "start_time": "2020-08-11T06:02:04.032537Z"
    }
   },
   "source": [
    "## Hyperparameter Tuning"
   ]
  },
  {
   "cell_type": "markdown",
   "metadata": {},
   "source": [
    "Pada soal ujian ini saya memutuskan untuk menggunakan metode tuning ``RandomizedSearchCV'' dikarenakan efektifitas waktu dan performance laptop yang kiranya tidak membutuhkan memory usage yg cukup banya"
   ]
  },
  {
   "cell_type": "markdown",
   "metadata": {},
   "source": [
    "##### Menentukan tiap parameter pada Model Machine Learning"
   ]
  },
  {
   "cell_type": "code",
   "execution_count": 102,
   "metadata": {
    "ExecuteTime": {
     "end_time": "2020-08-11T06:03:31.688867Z",
     "start_time": "2020-08-11T06:03:31.681887Z"
    }
   },
   "outputs": [],
   "source": [
    "# RandomForest Parameter\n",
    "max_depth=[10,20,30,40,50,60,70,80,90,100]\n",
    "min_samples_leaf= [1, 2, 4]\n",
    "min_samples_split= [2, 5, 10]\n",
    "n_estimators=[200, 400, 600, 800, 1000, 1200, 1400, 1600, 1800, 2000]\n",
    "\n",
    "param_RF = {'max_depth':max_depth,'min_samples_leaf':min_samples_leaf, 'min_samples_split':min_samples_split,'n_estimators':n_estimators}"
   ]
  },
  {
   "cell_type": "code",
   "execution_count": 103,
   "metadata": {
    "ExecuteTime": {
     "end_time": "2020-08-11T06:03:38.452404Z",
     "start_time": "2020-08-11T06:03:38.445423Z"
    }
   },
   "outputs": [],
   "source": [
    "# DecisionTree Parameter\n",
    "criterion = [\"gini\", \"entropy\"]\n",
    "splitter = [\"best\", \"random\"]\n",
    "max_depth=[10,20,30,40,50,60,70,80,90,100]\n",
    "min_samples_split= [2, 5, 10]\n",
    "min_samples_leaf= [1, 2, 4]\n",
    "\n",
    "param_DT = {'criterion' : criterion, 'splitter' : splitter, 'max_depth':max_depth,'min_samples_leaf':min_samples_leaf, 'min_samples_split':min_samples_split}"
   ]
  },
  {
   "cell_type": "code",
   "execution_count": 104,
   "metadata": {
    "ExecuteTime": {
     "end_time": "2020-08-11T06:04:20.410119Z",
     "start_time": "2020-08-11T06:04:20.404136Z"
    }
   },
   "outputs": [],
   "source": [
    "# LogisticRegression Parameter\n",
    "penalty = ['l1', 'l2', 'elasticnet', 'none']\n",
    "solver = ['newton-cg', 'lbfgs', 'liblinear', 'sag', 'saga']\n",
    "max_iter = [1, 10, 100, 1000, 10000]\n",
    "\n",
    "param_LR = {'penalty':penalty, 'solver':solver, 'max_iter':max_iter}"
   ]
  },
  {
   "cell_type": "markdown",
   "metadata": {},
   "source": [
    "### Randomize Search CV\n",
    "\n",
    "<hr>"
   ]
  },
  {
   "cell_type": "markdown",
   "metadata": {},
   "source": [
    "Random Forest Classifier Randomize\n"
   ]
  },
  {
   "cell_type": "code",
   "execution_count": 105,
   "metadata": {
    "ExecuteTime": {
     "end_time": "2020-08-11T06:05:50.422407Z",
     "start_time": "2020-08-11T06:05:50.418417Z"
    }
   },
   "outputs": [],
   "source": [
    "model_RF_RS = RandomizedSearchCV(\n",
    "    model_RF, param_RF, cv = 10)"
   ]
  },
  {
   "cell_type": "code",
   "execution_count": 106,
   "metadata": {
    "ExecuteTime": {
     "end_time": "2020-08-11T06:10:30.872866Z",
     "start_time": "2020-08-11T06:05:56.229057Z"
    }
   },
   "outputs": [
    {
     "data": {
      "text/plain": [
       "{'n_estimators': 1400,\n",
       " 'min_samples_split': 5,\n",
       " 'min_samples_leaf': 4,\n",
       " 'max_depth': 90}"
      ]
     },
     "execution_count": 106,
     "metadata": {},
     "output_type": "execute_result"
    }
   ],
   "source": [
    "model_RF_RS.fit(x_train, y_train)\n",
    "model_RF_RS.best_params_"
   ]
  },
  {
   "cell_type": "markdown",
   "metadata": {},
   "source": [
    "Decision Tree Classifier Randomize\n"
   ]
  },
  {
   "cell_type": "code",
   "execution_count": 107,
   "metadata": {
    "ExecuteTime": {
     "end_time": "2020-08-11T06:10:30.889784Z",
     "start_time": "2020-08-11T06:10:30.882802Z"
    }
   },
   "outputs": [],
   "source": [
    "model_DT_RS = RandomizedSearchCV(\n",
    "    model_DT, param_DT, cv = 5)"
   ]
  },
  {
   "cell_type": "code",
   "execution_count": 108,
   "metadata": {
    "ExecuteTime": {
     "end_time": "2020-08-11T06:10:49.172169Z",
     "start_time": "2020-08-11T06:10:48.800085Z"
    }
   },
   "outputs": [
    {
     "data": {
      "text/plain": [
       "{'splitter': 'best',\n",
       " 'min_samples_split': 2,\n",
       " 'min_samples_leaf': 1,\n",
       " 'max_depth': 40,\n",
       " 'criterion': 'entropy'}"
      ]
     },
     "execution_count": 108,
     "metadata": {},
     "output_type": "execute_result"
    }
   ],
   "source": [
    "model_DT_RS.fit(x_train, y_train)\n",
    "model_DT_RS.best_params_"
   ]
  },
  {
   "cell_type": "markdown",
   "metadata": {},
   "source": [
    "Logistic Tree Classifier Randomize"
   ]
  },
  {
   "cell_type": "code",
   "execution_count": 109,
   "metadata": {
    "ExecuteTime": {
     "end_time": "2020-08-11T06:10:51.928550Z",
     "start_time": "2020-08-11T06:10:51.924561Z"
    }
   },
   "outputs": [],
   "source": [
    "model_LR_RS = RandomizedSearchCV(\n",
    "    estimator = model_LR, param_distributions= param_LR, cv = 5)"
   ]
  },
  {
   "cell_type": "code",
   "execution_count": 110,
   "metadata": {
    "ExecuteTime": {
     "end_time": "2020-08-11T06:11:02.866513Z",
     "start_time": "2020-08-11T06:10:53.636943Z"
    }
   },
   "outputs": [
    {
     "data": {
      "text/plain": [
       "{'solver': 'sag', 'penalty': 'l2', 'max_iter': 1000}"
      ]
     },
     "execution_count": 110,
     "metadata": {},
     "output_type": "execute_result"
    }
   ],
   "source": [
    "model_LR_RS.fit(x_train, y_train)\n",
    "model_LR_RS.best_params_"
   ]
  },
  {
   "cell_type": "code",
   "execution_count": 113,
   "metadata": {
    "ExecuteTime": {
     "end_time": "2020-08-11T06:15:12.954098Z",
     "start_time": "2020-08-11T06:15:07.719129Z"
    }
   },
   "outputs": [
    {
     "data": {
      "text/plain": [
       "DecisionTreeClassifier(criterion='entropy', max_depth=40)"
      ]
     },
     "execution_count": 113,
     "metadata": {},
     "output_type": "execute_result"
    }
   ],
   "source": [
    "model_RF_RS = RandomForestClassifier(n_estimators= 1400, min_samples_split= 5, min_samples_leaf= 4, max_depth= 90)\n",
    "model_DT_RS = DecisionTreeClassifier(splitter='best', min_samples_split= 2, min_samples_leaf= 1, max_depth= 40, criterion= 'entropy')\n",
    "model_LR_RS = LogisticRegression(solver= 'sag', penalty= 'l2', max_iter = 1000)\n",
    "model_LR_RS.fit(x_train, y_train)\n",
    "model_RF_RS.fit(x_train, y_train)\n",
    "model_DT_RS.fit(x_train, y_train)"
   ]
  },
  {
   "cell_type": "code",
   "execution_count": 114,
   "metadata": {
    "ExecuteTime": {
     "end_time": "2020-08-11T06:15:17.622729Z",
     "start_time": "2020-08-11T06:15:17.233771Z"
    }
   },
   "outputs": [],
   "source": [
    "# Menjalankan hasil predisksi setalah dituning\n",
    "\n",
    "y_pred_RF_RS = model_RF_tun.predict(x_test) \n",
    "y_pred_DT_RS = model_DT_tun.predict(x_test) \n",
    "y_pred_LR_RS = model_LR_tun.predict(x_test)"
   ]
  },
  {
   "cell_type": "code",
   "execution_count": 115,
   "metadata": {
    "ExecuteTime": {
     "end_time": "2020-08-11T06:15:39.878271Z",
     "start_time": "2020-08-11T06:15:38.866107Z"
    }
   },
   "outputs": [
    {
     "name": "stdout",
     "output_type": "stream",
     "text": [
      "Decision Tree Model: 0.8715\n",
      " Random Forest Model : 0.86675 \n",
      " Linear Regression Model : 0.81275\n"
     ]
    }
   ],
   "source": [
    "### Melihat Performance Model \n",
    "print(f'Decision Tree Model: {model_DT_RS.score(x_train,y_train)}\\n Random Forest Model : {model_RF_RS.score(x_train, y_train)} \\n Linear Regression Model : {model_LR_RS.score(x_train, y_train)}')"
   ]
  },
  {
   "cell_type": "markdown",
   "metadata": {},
   "source": [
    "### Classification Report After Tuning"
   ]
  },
  {
   "cell_type": "markdown",
   "metadata": {},
   "source": [
    "Classification Report Random Forest"
   ]
  },
  {
   "cell_type": "code",
   "execution_count": 116,
   "metadata": {
    "ExecuteTime": {
     "end_time": "2020-08-11T06:18:15.432194Z",
     "start_time": "2020-08-11T06:18:15.417196Z"
    }
   },
   "outputs": [
    {
     "name": "stdout",
     "output_type": "stream",
     "text": [
      "              precision    recall  f1-score   support\n",
      "\n",
      "           0       0.95      0.77      0.85       520\n",
      "           1       0.79      0.95      0.86       480\n",
      "\n",
      "    accuracy                           0.86      1000\n",
      "   macro avg       0.87      0.86      0.86      1000\n",
      "weighted avg       0.87      0.86      0.86      1000\n",
      "\n"
     ]
    }
   ],
   "source": [
    "print(classification_report(y_test, y_pred_RF_RS))"
   ]
  },
  {
   "cell_type": "markdown",
   "metadata": {},
   "source": [
    "Classification Report Decision Tree"
   ]
  },
  {
   "cell_type": "code",
   "execution_count": 118,
   "metadata": {
    "ExecuteTime": {
     "end_time": "2020-08-11T06:18:49.754862Z",
     "start_time": "2020-08-11T06:18:49.740897Z"
    },
    "scrolled": true
   },
   "outputs": [
    {
     "name": "stdout",
     "output_type": "stream",
     "text": [
      "              precision    recall  f1-score   support\n",
      "\n",
      "           0       0.95      0.76      0.84       520\n",
      "           1       0.79      0.96      0.86       480\n",
      "\n",
      "    accuracy                           0.85      1000\n",
      "   macro avg       0.87      0.86      0.85      1000\n",
      "weighted avg       0.87      0.85      0.85      1000\n",
      "\n"
     ]
    }
   ],
   "source": [
    "print(classification_report(y_test, y_pred_DT_RS))"
   ]
  },
  {
   "cell_type": "markdown",
   "metadata": {},
   "source": [
    "Classification Report using Logistic Regression "
   ]
  },
  {
   "cell_type": "code",
   "execution_count": 119,
   "metadata": {
    "ExecuteTime": {
     "end_time": "2020-08-11T06:20:39.321974Z",
     "start_time": "2020-08-11T06:20:39.307014Z"
    }
   },
   "outputs": [
    {
     "name": "stdout",
     "output_type": "stream",
     "text": [
      "              precision    recall  f1-score   support\n",
      "\n",
      "           0       0.88      0.69      0.77       520\n",
      "           1       0.73      0.90      0.80       480\n",
      "\n",
      "    accuracy                           0.79      1000\n",
      "   macro avg       0.80      0.79      0.79      1000\n",
      "weighted avg       0.81      0.79      0.79      1000\n",
      "\n"
     ]
    }
   ],
   "source": [
    "print(classification_report(y_test, y_pred_LR_RS))"
   ]
  },
  {
   "cell_type": "markdown",
   "metadata": {
    "ExecuteTime": {
     "end_time": "2020-08-11T06:23:30.514933Z",
     "start_time": "2020-08-11T06:23:30.510942Z"
    }
   },
   "source": [
    "## Conffusion Metrics After Tuning\n"
   ]
  },
  {
   "cell_type": "code",
   "execution_count": 120,
   "metadata": {
    "ExecuteTime": {
     "end_time": "2020-08-11T06:21:40.158295Z",
     "start_time": "2020-08-11T06:21:39.769337Z"
    }
   },
   "outputs": [
    {
     "data": {
      "image/png": "[encoded data removed]",
      "text/plain": [
       "<Figure size 576x360 with 2 Axes>"
      ]
     },
     "metadata": {
      "needs_background": "light"
     },
     "output_type": "display_data"
    }
   ],
   "source": [
    "#\n",
    "f, ax = plt.subplots(figsize=(8,5))\n",
    "sns.heatmap(confusion_matrix(y_test, y_pred_RF_RS), annot=True, fmt='.0f', ax=ax)\n",
    "plt.xlabel('y Predicted')\n",
    "plt.ylabel('y Actual')\n",
    "plt.show()"
   ]
  },
  {
   "cell_type": "code",
   "execution_count": 122,
   "metadata": {
    "ExecuteTime": {
     "end_time": "2020-08-11T06:21:55.632885Z",
     "start_time": "2020-08-11T06:21:55.207026Z"
    }
   },
   "outputs": [
    {
     "data": {
      "image/png": "[encoded data removed]",
      "text/plain": [
       "<Figure size 576x360 with 2 Axes>"
      ]
     },
     "metadata": {
      "needs_background": "light"
     },
     "output_type": "display_data"
    }
   ],
   "source": [
    "f, ax = plt.subplots(figsize=(8,5))\n",
    "sns.heatmap(confusion_matrix(y_test, y_pred_DT_RS), annot=True, fmt='.0f', ax=ax)\n",
    "plt.xlabel('y Predicted')\n",
    "plt.ylabel('y Actual')\n",
    "plt.show()"
   ]
  },
  {
   "cell_type": "code",
   "execution_count": 124,
   "metadata": {
    "ExecuteTime": {
     "end_time": "2020-08-11T06:39:42.939800Z",
     "start_time": "2020-08-11T06:39:42.611162Z"
    }
   },
   "outputs": [
    {
     "data": {
      "image/png": "[encoded data removed]",
      "text/plain": [
       "<Figure size 576x360 with 2 Axes>"
      ]
     },
     "metadata": {
      "needs_background": "light"
     },
     "output_type": "display_data"
    }
   ],
   "source": [
    "f, ax = plt.subplots(figsize=(8,5))\n",
    "sns.heatmap(confusion_matrix(y_test, y_pred_LR_RS), annot=True, fmt='.0f', ax=ax)\n",
    "plt.xlabel('y Predicted')\n",
    "plt.ylabel('y Actual')\n",
    "plt.show()"
   ]
  },
  {
   "cell_type": "markdown",
   "metadata": {},
   "source": [
    "- Cancel = 1 (Positive)\n",
    "- No Cancel =  0 (Negative)\n",
    "\n",
    "\n",
    "**1. Before Tunning**\n",
    "\n",
    "- RandomForest Classifier\n",
    "\n",
    "        F1 Score : 86\n",
    "        TN = 396  FP = 124 FN = 21 TP = 459\n",
    "\n",
    "- Decision Tree Classifier\n",
    "\n",
    "        F1 Score : 84\n",
    "        TN = 395  FP = 125  FN = 21 TP = 495\n",
    "\n",
    "- Logistic Regression\n",
    "\n",
    "        F1 Score : 82\n",
    "        TN = 359  FP = 161  FN = 50  TP = 430\n",
    "\n",
    "\n",
    "**2. After Tunning Tunning**\n",
    "\n",
    "- RandomForest Classifier\n",
    "\n",
    "        F1 Score : 86\n",
    "        TN = 399  FP = 121 FN = 22 TP = 458\n",
    "\n",
    "- Decision Tree Classifier\n",
    "\n",
    "        F1 Score : 86\n",
    "        TN = 395  FP = 125  FN = 21 TP = 459\n",
    "\n",
    "- Logistic Regression\n",
    "\n",
    "        F1 Score : 80\n",
    "        TN = 359  FP = 161  FN = 50  TP = 430\n",
    "\n",
    "        \n",
    "<br>\n",
    "\n",
    "\n",
    "<hr>\n",
    "\n",
    "\n",
    "Model Machine Learning yang dipakai untuk mendekati prediksi secara akurat Before maupun After Tunning Adalah `RandomForestClassifier` ataupun `DecisionTree Classifier` dapat dilihat dari nilai pada f1 Score 0.86 atau 86%. Jika `f1 score` mendekati 1 maka Nilai `Recall` ataupun `Precision` mendekati nilai kondisi yang sempurna.\n",
    "\n",
    "<br>\n",
    "\n",
    "\n",
    "**Evaluasi Keseluruhan terhadap dampak bisnis**\n",
    "\n",
    "Ketika diprediksi No Cancel ( Negative ) dan aktual Cancel (Positive) dalam booking case. Prediksi 0 dan aktual nya 1. Dapat dilihat jumlah `TN`,`FP`,`FN`,`TP` yang tertera pada evaluation model.Example dari After Tunning Decision Tree Classifier TN (True Negative) yang berarti Aktual dan Prediksi No Cancel (0) berjumlah 395.FN (False Negative) yang berarti Aktualnya Cancel (1) dan Prediksi No Cancel (0) berjumlah 21. Artinya jumlah 27 kondisi yang sudah meng-cancel, diprediksi tidak meng-cancel maka ini akan merugikan untuk revenue perusaahan. FP (False Positive) yang artinya Aktual No Cancel dan Prediksi Cancel  berjumlah 125.TP (True Positive) yang artinya Aktualnya Cancel dan Prediksi Cancel berjumlah 459. Artinya jumlah 125 yang diprediksi cancel akan mengakibatkan kerugian untuk revenue perusahaan\n",
    "            \n",
    "*******\n",
    "<br>\n",
    "\n",
    "Langkah yang baik untuk meningkatkan performa model adalah meningkatkan nilai **Precision Negative Score** atau **Recall Positive Score**\n",
    "\n",
    "*******\n",
    "<br>\n",
    "\n",
    "Dari semoua model yang telah diterapkan saya akan memilih menggunakan model Decision Tree karena hasil dari score recall positive dan precision Negative yang lebih tinggi dibanding model 2 lainnya"
   ]
  },
  {
   "cell_type": "code",
   "execution_count": null,
   "metadata": {},
   "outputs": [],
   "source": []
  }
 ],
 "metadata": {
  "kernelspec": {
   "display_name": "Python 3",
   "language": "python",
   "name": "python3"
  },
  "language_info": {
   "codemirror_mode": {
    "name": "ipython",
    "version": 3
   },
   "file_extension": ".py",
   "mimetype": "text/x-python",
   "name": "python",
   "nbconvert_exporter": "python",
   "pygments_lexer": "ipython3",
   "version": "3.8.5"
  }
 },
 "nbformat": 4,
 "nbformat_minor": 4
}
